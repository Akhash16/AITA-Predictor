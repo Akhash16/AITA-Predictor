{
 "cells": [
  {
   "cell_type": "code",
   "execution_count": 91,
   "id": "381d6373-802e-45a3-bd3c-61e5e8deacb6",
   "metadata": {},
   "outputs": [],
   "source": [
    "import pandas as pd\n",
    "import numpy as np\n",
    "from tqdm import tqdm\n",
    "from sklearn.feature_extraction.text import TfidfVectorizer\n",
    "from sklearn.tree import DecisionTreeClassifier\n",
    "import warnings\n",
    "warnings.filterwarnings('ignore')"
   ]
  },
  {
   "cell_type": "code",
   "execution_count": 92,
   "id": "2dd49b48-f660-40f7-a279-a1a384566678",
   "metadata": {},
   "outputs": [],
   "source": [
    "df = pd.read_csv(\"cleaned_post_comment.csv\")"
   ]
  },
  {
   "cell_type": "code",
   "execution_count": 93,
   "id": "4a4128bd-a3d4-4280-b204-2f05745a4566",
   "metadata": {},
   "outputs": [],
   "source": [
    "df=df[:15000]"
   ]
  },
  {
   "cell_type": "code",
   "execution_count": 96,
   "id": "62e3beb7-8839-4e14-845a-dae16de4805a",
   "metadata": {},
   "outputs": [
    {
     "data": {
      "text/plain": [
       "(15000, 3)"
      ]
     },
     "execution_count": 96,
     "metadata": {},
     "output_type": "execute_result"
    }
   ],
   "source": [
    "df.shape"
   ]
  },
  {
   "cell_type": "code",
   "execution_count": 97,
   "id": "f2b1367d-af64-4731-a592-0bd021c293d1",
   "metadata": {},
   "outputs": [
    {
     "data": {
      "text/html": [
       "<div>\n",
       "<style scoped>\n",
       "    .dataframe tbody tr th:only-of-type {\n",
       "        vertical-align: middle;\n",
       "    }\n",
       "\n",
       "    .dataframe tbody tr th {\n",
       "        vertical-align: top;\n",
       "    }\n",
       "\n",
       "    .dataframe thead th {\n",
       "        text-align: right;\n",
       "    }\n",
       "</style>\n",
       "<table border=\"1\" class=\"dataframe\">\n",
       "  <thead>\n",
       "    <tr style=\"text-align: right;\">\n",
       "      <th></th>\n",
       "      <th>Unnamed: 0</th>\n",
       "      <th>title_body</th>\n",
       "      <th>comment</th>\n",
       "    </tr>\n",
       "  </thead>\n",
       "  <tbody>\n",
       "    <tr>\n",
       "      <th>0</th>\n",
       "      <td>0</td>\n",
       "      <td>[AITA] I wrote an explanation in TIL and came ...</td>\n",
       "      <td>&lt;|response|&gt; There is nothing wrong with your ...</td>\n",
       "    </tr>\n",
       "    <tr>\n",
       "      <th>1</th>\n",
       "      <td>1</td>\n",
       "      <td>[AITA] Threw my parent's donuts away My parent...</td>\n",
       "      <td>&lt;|response|&gt; Yep. You're the asshole. If you w...</td>\n",
       "    </tr>\n",
       "    <tr>\n",
       "      <th>2</th>\n",
       "      <td>2</td>\n",
       "      <td>I told a goth girl she looked like a clown. I ...</td>\n",
       "      <td>&lt;|response|&gt; Kids say ridiculous things all th...</td>\n",
       "    </tr>\n",
       "    <tr>\n",
       "      <th>3</th>\n",
       "      <td>3</td>\n",
       "      <td>[AItA]: Argument I had with another redditor i...</td>\n",
       "      <td>&lt;|response|&gt; I'm not reading that. But don't s...</td>\n",
       "    </tr>\n",
       "    <tr>\n",
       "      <th>4</th>\n",
       "      <td>4</td>\n",
       "      <td>[AITA] I let my story get a little long and bo...</td>\n",
       "      <td>&lt;|response|&gt; A real yawn? Or an I'm-trying-to-...</td>\n",
       "    </tr>\n",
       "  </tbody>\n",
       "</table>\n",
       "</div>"
      ],
      "text/plain": [
       "   Unnamed: 0                                         title_body  \\\n",
       "0           0  [AITA] I wrote an explanation in TIL and came ...   \n",
       "1           1  [AITA] Threw my parent's donuts away My parent...   \n",
       "2           2  I told a goth girl she looked like a clown. I ...   \n",
       "3           3  [AItA]: Argument I had with another redditor i...   \n",
       "4           4  [AITA] I let my story get a little long and bo...   \n",
       "\n",
       "                                             comment  \n",
       "0  <|response|> There is nothing wrong with your ...  \n",
       "1  <|response|> Yep. You're the asshole. If you w...  \n",
       "2  <|response|> Kids say ridiculous things all th...  \n",
       "3  <|response|> I'm not reading that. But don't s...  \n",
       "4  <|response|> A real yawn? Or an I'm-trying-to-...  "
      ]
     },
     "execution_count": 97,
     "metadata": {},
     "output_type": "execute_result"
    }
   ],
   "source": [
    "df.head()"
   ]
  },
  {
   "cell_type": "code",
   "execution_count": 98,
   "id": "330df2e0-d0db-4398-8124-155f71c4c390",
   "metadata": {},
   "outputs": [
    {
     "data": {
      "text/html": [
       "<div>\n",
       "<style scoped>\n",
       "    .dataframe tbody tr th:only-of-type {\n",
       "        vertical-align: middle;\n",
       "    }\n",
       "\n",
       "    .dataframe tbody tr th {\n",
       "        vertical-align: top;\n",
       "    }\n",
       "\n",
       "    .dataframe thead th {\n",
       "        text-align: right;\n",
       "    }\n",
       "</style>\n",
       "<table border=\"1\" class=\"dataframe\">\n",
       "  <thead>\n",
       "    <tr style=\"text-align: right;\">\n",
       "      <th></th>\n",
       "      <th>Unnamed: 0</th>\n",
       "      <th>title_body</th>\n",
       "      <th>comment</th>\n",
       "    </tr>\n",
       "  </thead>\n",
       "  <tbody>\n",
       "    <tr>\n",
       "      <th>0</th>\n",
       "      <td>0</td>\n",
       "      <td>[AITA] I wrote an explanation in TIL and came ...</td>\n",
       "      <td>&lt;|response|&gt; There is nothing wrong with your ...</td>\n",
       "    </tr>\n",
       "    <tr>\n",
       "      <th>1</th>\n",
       "      <td>1</td>\n",
       "      <td>[AITA] Threw my parent's donuts away My parent...</td>\n",
       "      <td>&lt;|response|&gt; Yep. You're the asshole. If you w...</td>\n",
       "    </tr>\n",
       "    <tr>\n",
       "      <th>2</th>\n",
       "      <td>2</td>\n",
       "      <td>I told a goth girl she looked like a clown. I ...</td>\n",
       "      <td>&lt;|response|&gt; Kids say ridiculous things all th...</td>\n",
       "    </tr>\n",
       "    <tr>\n",
       "      <th>3</th>\n",
       "      <td>3</td>\n",
       "      <td>[AItA]: Argument I had with another redditor i...</td>\n",
       "      <td>&lt;|response|&gt; I'm not reading that. But don't s...</td>\n",
       "    </tr>\n",
       "    <tr>\n",
       "      <th>4</th>\n",
       "      <td>4</td>\n",
       "      <td>[AITA] I let my story get a little long and bo...</td>\n",
       "      <td>&lt;|response|&gt; A real yawn? Or an I'm-trying-to-...</td>\n",
       "    </tr>\n",
       "    <tr>\n",
       "      <th>...</th>\n",
       "      <td>...</td>\n",
       "      <td>...</td>\n",
       "      <td>...</td>\n",
       "    </tr>\n",
       "    <tr>\n",
       "      <th>14995</th>\n",
       "      <td>14995</td>\n",
       "      <td>AITA for telling people about my breakup So a ...</td>\n",
       "      <td>&lt;|response|&gt; Nta. She's obviously trying to ma...</td>\n",
       "    </tr>\n",
       "    <tr>\n",
       "      <th>14996</th>\n",
       "      <td>14996</td>\n",
       "      <td>WIBTA for wanting to leave my girlfriend and t...</td>\n",
       "      <td>&lt;|response|&gt; &gt;I want to tell her that I don’t ...</td>\n",
       "    </tr>\n",
       "    <tr>\n",
       "      <th>14997</th>\n",
       "      <td>14997</td>\n",
       "      <td>AITA for for spending less and making home mad...</td>\n",
       "      <td>&lt;|response|&gt; NTA gifts aren't about how much m...</td>\n",
       "    </tr>\n",
       "    <tr>\n",
       "      <th>14998</th>\n",
       "      <td>14998</td>\n",
       "      <td>AITA for telling my uncle how much of a deadbe...</td>\n",
       "      <td>&lt;|response|&gt; NTA - It's not your job to cover ...</td>\n",
       "    </tr>\n",
       "    <tr>\n",
       "      <th>14999</th>\n",
       "      <td>14999</td>\n",
       "      <td>AITA for having sex with drunk girls? I want t...</td>\n",
       "      <td>&lt;|response|&gt; I think it’s concerning that you’...</td>\n",
       "    </tr>\n",
       "  </tbody>\n",
       "</table>\n",
       "<p>15000 rows × 3 columns</p>\n",
       "</div>"
      ],
      "text/plain": [
       "       Unnamed: 0                                         title_body  \\\n",
       "0               0  [AITA] I wrote an explanation in TIL and came ...   \n",
       "1               1  [AITA] Threw my parent's donuts away My parent...   \n",
       "2               2  I told a goth girl she looked like a clown. I ...   \n",
       "3               3  [AItA]: Argument I had with another redditor i...   \n",
       "4               4  [AITA] I let my story get a little long and bo...   \n",
       "...           ...                                                ...   \n",
       "14995       14995  AITA for telling people about my breakup So a ...   \n",
       "14996       14996  WIBTA for wanting to leave my girlfriend and t...   \n",
       "14997       14997  AITA for for spending less and making home mad...   \n",
       "14998       14998  AITA for telling my uncle how much of a deadbe...   \n",
       "14999       14999  AITA for having sex with drunk girls? I want t...   \n",
       "\n",
       "                                                 comment  \n",
       "0      <|response|> There is nothing wrong with your ...  \n",
       "1      <|response|> Yep. You're the asshole. If you w...  \n",
       "2      <|response|> Kids say ridiculous things all th...  \n",
       "3      <|response|> I'm not reading that. But don't s...  \n",
       "4      <|response|> A real yawn? Or an I'm-trying-to-...  \n",
       "...                                                  ...  \n",
       "14995  <|response|> Nta. She's obviously trying to ma...  \n",
       "14996  <|response|> >I want to tell her that I don’t ...  \n",
       "14997  <|response|> NTA gifts aren't about how much m...  \n",
       "14998  <|response|> NTA - It's not your job to cover ...  \n",
       "14999  <|response|> I think it’s concerning that you’...  \n",
       "\n",
       "[15000 rows x 3 columns]"
      ]
     },
     "execution_count": 98,
     "metadata": {},
     "output_type": "execute_result"
    }
   ],
   "source": [
    "df"
   ]
  },
  {
   "cell_type": "code",
   "execution_count": 99,
   "id": "a54cddd8-951f-4017-8efe-dfe9ccc3eef5",
   "metadata": {},
   "outputs": [],
   "source": [
    "df[\"label\"] = \"\""
   ]
  },
  {
   "cell_type": "code",
   "execution_count": null,
   "id": "9ac4f89b-7bc0-4fe7-8de3-00c19b3368aa",
   "metadata": {},
   "outputs": [],
   "source": []
  },
  {
   "cell_type": "code",
   "execution_count": 100,
   "id": "330872aa-444f-4f81-b923-904ca0ac5d3e",
   "metadata": {},
   "outputs": [
    {
     "data": {
      "text/html": [
       "<div>\n",
       "<style scoped>\n",
       "    .dataframe tbody tr th:only-of-type {\n",
       "        vertical-align: middle;\n",
       "    }\n",
       "\n",
       "    .dataframe tbody tr th {\n",
       "        vertical-align: top;\n",
       "    }\n",
       "\n",
       "    .dataframe thead th {\n",
       "        text-align: right;\n",
       "    }\n",
       "</style>\n",
       "<table border=\"1\" class=\"dataframe\">\n",
       "  <thead>\n",
       "    <tr style=\"text-align: right;\">\n",
       "      <th></th>\n",
       "      <th>Unnamed: 0</th>\n",
       "      <th>title_body</th>\n",
       "      <th>comment</th>\n",
       "      <th>label</th>\n",
       "    </tr>\n",
       "  </thead>\n",
       "  <tbody>\n",
       "    <tr>\n",
       "      <th>0</th>\n",
       "      <td>0</td>\n",
       "      <td>[AITA] I wrote an explanation in TIL and came ...</td>\n",
       "      <td>&lt;|response|&gt; There is nothing wrong with your ...</td>\n",
       "      <td></td>\n",
       "    </tr>\n",
       "    <tr>\n",
       "      <th>1</th>\n",
       "      <td>1</td>\n",
       "      <td>[AITA] Threw my parent's donuts away My parent...</td>\n",
       "      <td>&lt;|response|&gt; Yep. You're the asshole. If you w...</td>\n",
       "      <td></td>\n",
       "    </tr>\n",
       "    <tr>\n",
       "      <th>2</th>\n",
       "      <td>2</td>\n",
       "      <td>I told a goth girl she looked like a clown. I ...</td>\n",
       "      <td>&lt;|response|&gt; Kids say ridiculous things all th...</td>\n",
       "      <td></td>\n",
       "    </tr>\n",
       "    <tr>\n",
       "      <th>3</th>\n",
       "      <td>3</td>\n",
       "      <td>[AItA]: Argument I had with another redditor i...</td>\n",
       "      <td>&lt;|response|&gt; I'm not reading that. But don't s...</td>\n",
       "      <td></td>\n",
       "    </tr>\n",
       "    <tr>\n",
       "      <th>4</th>\n",
       "      <td>4</td>\n",
       "      <td>[AITA] I let my story get a little long and bo...</td>\n",
       "      <td>&lt;|response|&gt; A real yawn? Or an I'm-trying-to-...</td>\n",
       "      <td></td>\n",
       "    </tr>\n",
       "  </tbody>\n",
       "</table>\n",
       "</div>"
      ],
      "text/plain": [
       "   Unnamed: 0                                         title_body  \\\n",
       "0           0  [AITA] I wrote an explanation in TIL and came ...   \n",
       "1           1  [AITA] Threw my parent's donuts away My parent...   \n",
       "2           2  I told a goth girl she looked like a clown. I ...   \n",
       "3           3  [AItA]: Argument I had with another redditor i...   \n",
       "4           4  [AITA] I let my story get a little long and bo...   \n",
       "\n",
       "                                             comment label  \n",
       "0  <|response|> There is nothing wrong with your ...        \n",
       "1  <|response|> Yep. You're the asshole. If you w...        \n",
       "2  <|response|> Kids say ridiculous things all th...        \n",
       "3  <|response|> I'm not reading that. But don't s...        \n",
       "4  <|response|> A real yawn? Or an I'm-trying-to-...        "
      ]
     },
     "execution_count": 100,
     "metadata": {},
     "output_type": "execute_result"
    }
   ],
   "source": [
    "df.head()"
   ]
  },
  {
   "cell_type": "code",
   "execution_count": 101,
   "id": "8e7cd24f-efee-4359-9d2e-30d3958a4c9b",
   "metadata": {},
   "outputs": [],
   "source": [
    "from tqdm import tqdm\n",
    "\n",
    "def Search_Label_AITA():\n",
    "    for i in tqdm(range(len(df['comment']))):\n",
    "        if \"NTA\" in df['comment'][i]:\n",
    "            df[\"label\"][i] = \"NTA\"\n",
    "        elif \"YTA\" in df['comment'][i]:\n",
    "            df[\"label\"][i] = \"YTA\"\n",
    "        elif \"YWBTA\" in df['comment'][i]:\n",
    "            df[\"label\"][i] = \"YWBTA\"\n",
    "        elif \"YWNBTA\" in df['comment'][i]:\n",
    "            df[\"label\"][i] = \"YWNBTA\"\n",
    "        elif \"ESH\" in df['comment'][i]:\n",
    "            df[\"label\"][i] = \"ESH\"\n",
    "        elif \"NAH\" in df['comment'][i]:\n",
    "            df[\"label\"][i] = \"NAH\"\n",
    "        elif \"INFO\" in df['comment'][i]:\n",
    "            df[\"label\"][i] = \"INFO\""
   ]
  },
  {
   "cell_type": "code",
   "execution_count": 102,
   "id": "5aa93da7-1285-49ab-861d-a70357bc0825",
   "metadata": {
    "scrolled": true
   },
   "outputs": [
    {
     "name": "stderr",
     "output_type": "stream",
     "text": [
      "100%|█████████████████████████████████████████████████████████████████████████| 15000/15000 [00:01<00:00, 11296.20it/s]\n"
     ]
    }
   ],
   "source": [
    "Search_Label_AITA()"
   ]
  },
  {
   "cell_type": "code",
   "execution_count": 103,
   "id": "842a93f2-164c-4eaa-b82d-bd46d2d64f12",
   "metadata": {},
   "outputs": [],
   "source": [
    "df = df.drop(df[df['label'] == ''].index)"
   ]
  },
  {
   "cell_type": "code",
   "execution_count": 104,
   "id": "f2631265-4a1b-4295-975b-eb4b21cfb867",
   "metadata": {},
   "outputs": [],
   "source": [
    "df.drop('Unnamed: 0', axis=1, inplace=True)"
   ]
  },
  {
   "cell_type": "code",
   "execution_count": 105,
   "id": "770b1981-cda4-4f4e-9fb4-736df6ed2a22",
   "metadata": {},
   "outputs": [
    {
     "data": {
      "text/plain": [
       "(4646, 3)"
      ]
     },
     "execution_count": 105,
     "metadata": {},
     "output_type": "execute_result"
    }
   ],
   "source": [
    "df.shape"
   ]
  },
  {
   "cell_type": "code",
   "execution_count": 106,
   "id": "1e4e5ff5-349d-49a4-8165-93eb87447696",
   "metadata": {},
   "outputs": [
    {
     "name": "stdout",
     "output_type": "stream",
     "text": [
      "Class Distribution:\n",
      "label\n",
      "NTA       0.744296\n",
      "YTA       0.181231\n",
      "NAH       0.040680\n",
      "ESH       0.023676\n",
      "INFO      0.006027\n",
      "YWBTA     0.003659\n",
      "YWNBTA    0.000430\n",
      "Name: proportion, dtype: float64\n"
     ]
    }
   ],
   "source": [
    "class_distribution = df['label'].value_counts(normalize=True)\n",
    "\n",
    "print(\"Class Distribution:\")\n",
    "print(class_distribution)"
   ]
  },
  {
   "cell_type": "code",
   "execution_count": 14,
   "id": "53f5aa08-326c-4093-a126-9cf7d96a0eba",
   "metadata": {},
   "outputs": [
    {
     "data": {
      "text/plain": [
       "(4646, 3)"
      ]
     },
     "execution_count": 14,
     "metadata": {},
     "output_type": "execute_result"
    }
   ],
   "source": [
    "df.shape"
   ]
  },
  {
   "cell_type": "code",
   "execution_count": 15,
   "id": "06f4ed85-89e3-4c0c-bb41-69c0836be2b7",
   "metadata": {},
   "outputs": [
    {
     "data": {
      "text/plain": [
       "Index(['title_body', 'comment', 'label'], dtype='object')"
      ]
     },
     "execution_count": 15,
     "metadata": {},
     "output_type": "execute_result"
    }
   ],
   "source": [
    "df.columns"
   ]
  },
  {
   "cell_type": "code",
   "execution_count": 16,
   "id": "c2f310d7-48d1-4802-952a-39e63e26735b",
   "metadata": {},
   "outputs": [],
   "source": [
    "# Convert text data to a sparse matrix\n",
    "vectorizer = TfidfVectorizer()\n",
    "sparse_matrix = vectorizer.fit_transform(df['title_body'])"
   ]
  },
  {
   "cell_type": "code",
   "execution_count": 17,
   "id": "2ab673af-e83e-4669-8b5d-35bc904f5c2d",
   "metadata": {},
   "outputs": [],
   "source": [
    "dense_matrix = sparse_matrix.toarray()"
   ]
  },
  {
   "cell_type": "code",
   "execution_count": 18,
   "id": "de51f930-fb34-4d73-92aa-2b0cf9ec4d01",
   "metadata": {},
   "outputs": [
    {
     "data": {
      "text/plain": [
       "array([[0., 0., 0., ..., 0., 0., 0.],\n",
       "       [0., 0., 0., ..., 0., 0., 0.],\n",
       "       [0., 0., 0., ..., 0., 0., 0.],\n",
       "       ...,\n",
       "       [0., 0., 0., ..., 0., 0., 0.],\n",
       "       [0., 0., 0., ..., 0., 0., 0.],\n",
       "       [0., 0., 0., ..., 0., 0., 0.]])"
      ]
     },
     "execution_count": 18,
     "metadata": {},
     "output_type": "execute_result"
    }
   ],
   "source": [
    "dense_matrix"
   ]
  },
  {
   "cell_type": "code",
   "execution_count": 19,
   "id": "2d7fbe9d-64c5-4da8-95bd-266ca7a8af62",
   "metadata": {},
   "outputs": [],
   "source": [
    "from sklearn.model_selection import train_test_split\n",
    "from sklearn.datasets import load_iris\n",
    "from sklearn.naive_bayes import GaussianNB\n",
    "from sklearn.metrics import accuracy_score\n",
    "\n",
    "X = dense_matrix\n",
    "y = df['label']\n",
    "# Split the dataset into training and test sets\n",
    "X_train, X_test, y_train, y_test = train_test_split(X, y, test_size=0.2, random_state=42)"
   ]
  },
  {
   "cell_type": "code",
   "execution_count": 20,
   "id": "9f7ab822-5116-446e-91e0-8832cba0152a",
   "metadata": {},
   "outputs": [
    {
     "data": {
      "text/plain": [
       "(930, 21326)"
      ]
     },
     "execution_count": 20,
     "metadata": {},
     "output_type": "execute_result"
    }
   ],
   "source": [
    "X_test.shape"
   ]
  },
  {
   "cell_type": "code",
   "execution_count": 21,
   "id": "65e2b02c-eaa6-44b7-ba75-f0b820053848",
   "metadata": {},
   "outputs": [
    {
     "data": {
      "text/plain": [
       "14912    NAH\n",
       "2994     NTA\n",
       "13122    NTA\n",
       "13128    NTA\n",
       "14617    YTA\n",
       "        ... \n",
       "14751    ESH\n",
       "4715     NTA\n",
       "13304    NTA\n",
       "14052    NTA\n",
       "5411     NTA\n",
       "Name: label, Length: 3716, dtype: object"
      ]
     },
     "execution_count": 21,
     "metadata": {},
     "output_type": "execute_result"
    }
   ],
   "source": [
    "y_train"
   ]
  },
  {
   "cell_type": "code",
   "execution_count": 22,
   "id": "c5a6bde7-cbd0-430c-9088-c6dce3a9718b",
   "metadata": {},
   "outputs": [
    {
     "data": {
      "text/html": [
       "<style>#sk-container-id-1 {color: black;}#sk-container-id-1 pre{padding: 0;}#sk-container-id-1 div.sk-toggleable {background-color: white;}#sk-container-id-1 label.sk-toggleable__label {cursor: pointer;display: block;width: 100%;margin-bottom: 0;padding: 0.3em;box-sizing: border-box;text-align: center;}#sk-container-id-1 label.sk-toggleable__label-arrow:before {content: \"▸\";float: left;margin-right: 0.25em;color: #696969;}#sk-container-id-1 label.sk-toggleable__label-arrow:hover:before {color: black;}#sk-container-id-1 div.sk-estimator:hover label.sk-toggleable__label-arrow:before {color: black;}#sk-container-id-1 div.sk-toggleable__content {max-height: 0;max-width: 0;overflow: hidden;text-align: left;background-color: #f0f8ff;}#sk-container-id-1 div.sk-toggleable__content pre {margin: 0.2em;color: black;border-radius: 0.25em;background-color: #f0f8ff;}#sk-container-id-1 input.sk-toggleable__control:checked~div.sk-toggleable__content {max-height: 200px;max-width: 100%;overflow: auto;}#sk-container-id-1 input.sk-toggleable__control:checked~label.sk-toggleable__label-arrow:before {content: \"▾\";}#sk-container-id-1 div.sk-estimator input.sk-toggleable__control:checked~label.sk-toggleable__label {background-color: #d4ebff;}#sk-container-id-1 div.sk-label input.sk-toggleable__control:checked~label.sk-toggleable__label {background-color: #d4ebff;}#sk-container-id-1 input.sk-hidden--visually {border: 0;clip: rect(1px 1px 1px 1px);clip: rect(1px, 1px, 1px, 1px);height: 1px;margin: -1px;overflow: hidden;padding: 0;position: absolute;width: 1px;}#sk-container-id-1 div.sk-estimator {font-family: monospace;background-color: #f0f8ff;border: 1px dotted black;border-radius: 0.25em;box-sizing: border-box;margin-bottom: 0.5em;}#sk-container-id-1 div.sk-estimator:hover {background-color: #d4ebff;}#sk-container-id-1 div.sk-parallel-item::after {content: \"\";width: 100%;border-bottom: 1px solid gray;flex-grow: 1;}#sk-container-id-1 div.sk-label:hover label.sk-toggleable__label {background-color: #d4ebff;}#sk-container-id-1 div.sk-serial::before {content: \"\";position: absolute;border-left: 1px solid gray;box-sizing: border-box;top: 0;bottom: 0;left: 50%;z-index: 0;}#sk-container-id-1 div.sk-serial {display: flex;flex-direction: column;align-items: center;background-color: white;padding-right: 0.2em;padding-left: 0.2em;position: relative;}#sk-container-id-1 div.sk-item {position: relative;z-index: 1;}#sk-container-id-1 div.sk-parallel {display: flex;align-items: stretch;justify-content: center;background-color: white;position: relative;}#sk-container-id-1 div.sk-item::before, #sk-container-id-1 div.sk-parallel-item::before {content: \"\";position: absolute;border-left: 1px solid gray;box-sizing: border-box;top: 0;bottom: 0;left: 50%;z-index: -1;}#sk-container-id-1 div.sk-parallel-item {display: flex;flex-direction: column;z-index: 1;position: relative;background-color: white;}#sk-container-id-1 div.sk-parallel-item:first-child::after {align-self: flex-end;width: 50%;}#sk-container-id-1 div.sk-parallel-item:last-child::after {align-self: flex-start;width: 50%;}#sk-container-id-1 div.sk-parallel-item:only-child::after {width: 0;}#sk-container-id-1 div.sk-dashed-wrapped {border: 1px dashed gray;margin: 0 0.4em 0.5em 0.4em;box-sizing: border-box;padding-bottom: 0.4em;background-color: white;}#sk-container-id-1 div.sk-label label {font-family: monospace;font-weight: bold;display: inline-block;line-height: 1.2em;}#sk-container-id-1 div.sk-label-container {text-align: center;}#sk-container-id-1 div.sk-container {/* jupyter's `normalize.less` sets `[hidden] { display: none; }` but bootstrap.min.css set `[hidden] { display: none !important; }` so we also need the `!important` here to be able to override the default hidden behavior on the sphinx rendered scikit-learn.org. See: https://github.com/scikit-learn/scikit-learn/issues/21755 */display: inline-block !important;position: relative;}#sk-container-id-1 div.sk-text-repr-fallback {display: none;}</style><div id=\"sk-container-id-1\" class=\"sk-top-container\"><div class=\"sk-text-repr-fallback\"><pre>GaussianNB()</pre><b>In a Jupyter environment, please rerun this cell to show the HTML representation or trust the notebook. <br />On GitHub, the HTML representation is unable to render, please try loading this page with nbviewer.org.</b></div><div class=\"sk-container\" hidden><div class=\"sk-item\"><div class=\"sk-estimator sk-toggleable\"><input class=\"sk-toggleable__control sk-hidden--visually\" id=\"sk-estimator-id-1\" type=\"checkbox\" checked><label for=\"sk-estimator-id-1\" class=\"sk-toggleable__label sk-toggleable__label-arrow\">GaussianNB</label><div class=\"sk-toggleable__content\"><pre>GaussianNB()</pre></div></div></div></div></div>"
      ],
      "text/plain": [
       "GaussianNB()"
      ]
     },
     "execution_count": 22,
     "metadata": {},
     "output_type": "execute_result"
    }
   ],
   "source": [
    "# Create a Gaussian Naive Bayes classifier\n",
    "clf = GaussianNB()\n",
    "\n",
    "\n",
    "# Train the classifier\n",
    "clf.fit(X_train, y_train)"
   ]
  },
  {
   "cell_type": "code",
   "execution_count": 23,
   "id": "dbb0f791-e5cc-41e8-93eb-598b5abc6f67",
   "metadata": {},
   "outputs": [
    {
     "name": "stdout",
     "output_type": "stream",
     "text": [
      "Accuracy: 0.7043010752688172\n"
     ]
    }
   ],
   "source": [
    "# Make predictions on the test set\n",
    "y_pred = clf.predict(X_test)\n",
    "\n",
    "# Calculate the accuracy of the classifier\n",
    "accuracy = accuracy_score(y_test, y_pred)\n",
    "print(f'Accuracy: {accuracy}')"
   ]
  },
  {
   "cell_type": "code",
   "execution_count": 71,
   "id": "979fc35f-a9e0-495b-983c-246e35c4021f",
   "metadata": {},
   "outputs": [
    {
     "data": {
      "text/plain": [
       "(930, 21326)"
      ]
     },
     "execution_count": 71,
     "metadata": {},
     "output_type": "execute_result"
    }
   ],
   "source": [
    "X_test.shape"
   ]
  },
  {
   "cell_type": "code",
   "execution_count": 62,
   "id": "00689b45-adcb-48cb-a601-7eb3c46c7441",
   "metadata": {},
   "outputs": [],
   "source": [
    "user_input = 'AITA for hating my dad and uncle? I\\'m using a throw away. So, I am still in High School, but growing up my life hasn\\'t been very fun. My parents divorced early and I lived with my mom from 6-13 in Ohio, whereas I had been in Texas before. Anyway, When I was 13, I came home from school one day and my mom had been arrested for like the 5th time for doing drugs. But this time was permanent. (I haven\\'t seen her since.) After that, my grandma drove up to Ohio from Texas to get me, and brought my dad with her. Then we drove back, and I moved in with my grandma. My grandma is awesome. Anyway, I found out shortly after moving in that my uncle would also be living with my grandma. My uncle is 40. He has \"mental problems\" as my grandparents describe it, so they use that as an excuse to put up with his bs, such as leaving messes everywhere, trashes my grandmas car, never having a job, and they said he will probably never move out because is isn\\'t capable. So that went on for about 2 years, and oh man I hated it. His blatant disrespect for how lucky he was made me so angry. He was practically sucking financial resources out of my grandparents for free because he was lazy. Two years of rent free life. That combined with the fact that he is an enormous jerk really makes me hate him. After those 2 years, my grandma brings up that my dad, back in Dallas (I live in a very small town about an hour away) has been living on the streets long enough, so she lets HIM move in as well. When HE moves in, he does the same thing as my uncle. Freeloading, whining, being ungrateful, and just generally being a drain and a pain in the ass. Having to live with these two constantly makes me dread being home. It has made me really sour. I literally never smile when they are around, and I never speak to them. When they speak to me I just answer with quick one word answers and try to end the conversation as quickly as possible. My uncle still lives here, going on nearly 4 years (I\\'m 16.). My dad has been here for about 3 months, but he is no closer to moving out than he was when he got here. I am constantly reassured he will be gone as soon as he gets his first paycheck, but he doesn\\'t have a job and I\\'m not holding my breathe. My grandma knows I am super unhappy with them being here, but she and my sister both say I am being a dick. They say that my dad and uncle are family, and I shouldn\\'t hate them, that I should give them more chances. Since my entire life all of my family, besides my little sister and grandparents, have been drug addicts, failures, and freeloaders, I never really learned to value'\n",
    "userlist = []\n",
    "userlist.append(user_input)"
   ]
  },
  {
   "cell_type": "code",
   "execution_count": 63,
   "id": "954515b1-daad-4b31-89f0-2d976537a4ea",
   "metadata": {},
   "outputs": [
    {
     "data": {
      "text/plain": [
       "['AITA for hating my dad and uncle? I\\'m using a throw away. So, I am still in High School, but growing up my life hasn\\'t been very fun. My parents divorced early and I lived with my mom from 6-13 in Ohio, whereas I had been in Texas before. Anyway, When I was 13, I came home from school one day and my mom had been arrested for like the 5th time for doing drugs. But this time was permanent. (I haven\\'t seen her since.) After that, my grandma drove up to Ohio from Texas to get me, and brought my dad with her. Then we drove back, and I moved in with my grandma. My grandma is awesome. Anyway, I found out shortly after moving in that my uncle would also be living with my grandma. My uncle is 40. He has \"mental problems\" as my grandparents describe it, so they use that as an excuse to put up with his bs, such as leaving messes everywhere, trashes my grandmas car, never having a job, and they said he will probably never move out because is isn\\'t capable. So that went on for about 2 years, and oh man I hated it. His blatant disrespect for how lucky he was made me so angry. He was practically sucking financial resources out of my grandparents for free because he was lazy. Two years of rent free life. That combined with the fact that he is an enormous jerk really makes me hate him. After those 2 years, my grandma brings up that my dad, back in Dallas (I live in a very small town about an hour away) has been living on the streets long enough, so she lets HIM move in as well. When HE moves in, he does the same thing as my uncle. Freeloading, whining, being ungrateful, and just generally being a drain and a pain in the ass. Having to live with these two constantly makes me dread being home. It has made me really sour. I literally never smile when they are around, and I never speak to them. When they speak to me I just answer with quick one word answers and try to end the conversation as quickly as possible. My uncle still lives here, going on nearly 4 years (I\\'m 16.). My dad has been here for about 3 months, but he is no closer to moving out than he was when he got here. I am constantly reassured he will be gone as soon as he gets his first paycheck, but he doesn\\'t have a job and I\\'m not holding my breathe. My grandma knows I am super unhappy with them being here, but she and my sister both say I am being a dick. They say that my dad and uncle are family, and I shouldn\\'t hate them, that I should give them more chances. Since my entire life all of my family, besides my little sister and grandparents, have been drug addicts, failures, and freeloaders, I never really learned to value']"
      ]
     },
     "execution_count": 63,
     "metadata": {},
     "output_type": "execute_result"
    }
   ],
   "source": [
    "userlist"
   ]
  },
  {
   "cell_type": "code",
   "execution_count": 64,
   "id": "62fcb02a-7cf0-4eb5-bf8b-029340760ffe",
   "metadata": {},
   "outputs": [],
   "source": [
    "new_df = pd.DataFrame(userlist)"
   ]
  },
  {
   "cell_type": "code",
   "execution_count": 65,
   "id": "4756eaed-259a-4e44-a2cf-e0489073b1bc",
   "metadata": {},
   "outputs": [
    {
     "data": {
      "text/plain": [
       "'AITA for hating my dad and uncle? I\\'m using a throw away. So, I am still in High School, but growing up my life hasn\\'t been very fun. My parents divorced early and I lived with my mom from 6-13 in Ohio, whereas I had been in Texas before. Anyway, When I was 13, I came home from school one day and my mom had been arrested for like the 5th time for doing drugs. But this time was permanent. (I haven\\'t seen her since.) After that, my grandma drove up to Ohio from Texas to get me, and brought my dad with her. Then we drove back, and I moved in with my grandma. My grandma is awesome. Anyway, I found out shortly after moving in that my uncle would also be living with my grandma. My uncle is 40. He has \"mental problems\" as my grandparents describe it, so they use that as an excuse to put up with his bs, such as leaving messes everywhere, trashes my grandmas car, never having a job, and they said he will probably never move out because is isn\\'t capable. So that went on for about 2 years, and oh man I hated it. His blatant disrespect for how lucky he was made me so angry. He was practically sucking financial resources out of my grandparents for free because he was lazy. Two years of rent free life. That combined with the fact that he is an enormous jerk really makes me hate him. After those 2 years, my grandma brings up that my dad, back in Dallas (I live in a very small town about an hour away) has been living on the streets long enough, so she lets HIM move in as well. When HE moves in, he does the same thing as my uncle. Freeloading, whining, being ungrateful, and just generally being a drain and a pain in the ass. Having to live with these two constantly makes me dread being home. It has made me really sour. I literally never smile when they are around, and I never speak to them. When they speak to me I just answer with quick one word answers and try to end the conversation as quickly as possible. My uncle still lives here, going on nearly 4 years (I\\'m 16.). My dad has been here for about 3 months, but he is no closer to moving out than he was when he got here. I am constantly reassured he will be gone as soon as he gets his first paycheck, but he doesn\\'t have a job and I\\'m not holding my breathe. My grandma knows I am super unhappy with them being here, but she and my sister both say I am being a dick. They say that my dad and uncle are family, and I shouldn\\'t hate them, that I should give them more chances. Since my entire life all of my family, besides my little sister and grandparents, have been drug addicts, failures, and freeloaders, I never really learned to value'"
      ]
     },
     "execution_count": 65,
     "metadata": {},
     "output_type": "execute_result"
    }
   ],
   "source": [
    "new_df[0][0]"
   ]
  },
  {
   "cell_type": "code",
   "execution_count": 66,
   "id": "520e8a5c-90b6-471c-bb42-aab52ccf6be5",
   "metadata": {},
   "outputs": [
    {
     "data": {
      "text/plain": [
       "'AITA for hating my dad and uncle? I\\'m using a throw away. So, I am still in High School, but growing up my life hasn\\'t been very fun. My parents divorced early and I lived with my mom from 6-13 in Ohio, whereas I had been in Texas before. Anyway, When I was 13, I came home from school one day and my mom had been arrested for like the 5th time for doing drugs. But this time was permanent. (I haven\\'t seen her since.) After that, my grandma drove up to Ohio from Texas to get me, and brought my dad with her. Then we drove back, and I moved in with my grandma. My grandma is awesome. Anyway, I found out shortly after moving in that my uncle would also be living with my grandma. My uncle is 40. He has \"mental problems\" as my grandparents describe it, so they use that as an excuse to put up with his bs, such as leaving messes everywhere, trashes my grandmas car, never having a job, and they said he will probably never move out because is isn\\'t capable. So that went on for about 2 years, and oh man I hated it. His blatant disrespect for how lucky he was made me so angry. He was practically sucking financial resources out of my grandparents for free because he was lazy. Two years of rent free life. That combined with the fact that he is an enormous jerk really makes me hate him. After those 2 years, my grandma brings up that my dad, back in Dallas (I live in a very small town about an hour away) has been living on the streets long enough, so she lets HIM move in as well. When HE moves in, he does the same thing as my uncle. Freeloading, whining, being ungrateful, and just generally being a drain and a pain in the ass. Having to live with these two constantly makes me dread being home. It has made me really sour. I literally never smile when they are around, and I never speak to them. When they speak to me I just answer with quick one word answers and try to end the conversation as quickly as possible. My uncle still lives here, going on nearly 4 years (I\\'m 16.). My dad has been here for about 3 months, but he is no closer to moving out than he was when he got here. I am constantly reassured he will be gone as soon as he gets his first paycheck, but he doesn\\'t have a job and I\\'m not holding my breathe. My grandma knows I am super unhappy with them being here, but she and my sister both say I am being a dick. They say that my dad and uncle are family, and I shouldn\\'t hate them, that I should give them more chances. Since my entire life all of my family, besides my little sister and grandparents, have been drug addicts, failures, and freeloaders, I never really learned to value'"
      ]
     },
     "execution_count": 66,
     "metadata": {},
     "output_type": "execute_result"
    }
   ],
   "source": [
    "df['title_body'][98]"
   ]
  },
  {
   "cell_type": "code",
   "execution_count": 67,
   "id": "0a8716d2-cfe7-4695-8baa-d658bf13246d",
   "metadata": {},
   "outputs": [],
   "source": [
    "user_sparse = vectorizer.fit_transform(new_df[0]).toarray()\n"
   ]
  },
  {
   "cell_type": "code",
   "execution_count": 68,
   "id": "44b1edfa-611f-4654-827c-bc2373bfa28a",
   "metadata": {},
   "outputs": [
    {
     "data": {
      "text/plain": [
       "array([[0.03902114, 0.01951057, 0.01951057, 0.01951057, 0.05853171,\n",
       "        0.01951057, 0.05853171, 0.01951057, 0.01951057, 0.01951057,\n",
       "        0.07804228, 0.05853171, 0.33167969, 0.01951057, 0.01951057,\n",
       "        0.01951057, 0.03902114, 0.03902114, 0.01951057, 0.01951057,\n",
       "        0.17559513, 0.01951057, 0.03902114, 0.01951057, 0.03902114,\n",
       "        0.03902114, 0.03902114, 0.11706342, 0.01951057, 0.09755285,\n",
       "        0.01951057, 0.01951057, 0.01951057, 0.01951057, 0.01951057,\n",
       "        0.01951057, 0.01951057, 0.09755285, 0.01951057, 0.01951057,\n",
       "        0.01951057, 0.01951057, 0.01951057, 0.01951057, 0.03902114,\n",
       "        0.01951057, 0.09755285, 0.01951057, 0.01951057, 0.01951057,\n",
       "        0.01951057, 0.01951057, 0.01951057, 0.01951057, 0.01951057,\n",
       "        0.01951057, 0.01951057, 0.01951057, 0.03902114, 0.01951057,\n",
       "        0.01951057, 0.01951057, 0.01951057, 0.01951057, 0.01951057,\n",
       "        0.01951057, 0.01951057, 0.01951057, 0.01951057, 0.01951057,\n",
       "        0.03902114, 0.01951057, 0.01951057, 0.13657399, 0.01951057,\n",
       "        0.03902114, 0.01951057, 0.01951057, 0.05853171, 0.01951057,\n",
       "        0.01951057, 0.01951057, 0.01951057, 0.01951057, 0.01951057,\n",
       "        0.01951057, 0.01951057, 0.11706342, 0.01951057, 0.05853171,\n",
       "        0.01951057, 0.03902114, 0.07804228, 0.01951057, 0.03902114,\n",
       "        0.01951057, 0.01951057, 0.03902114, 0.01951057, 0.03902114,\n",
       "        0.27314798, 0.03902114, 0.07804228, 0.01951057, 0.03902114,\n",
       "        0.05853171, 0.01951057, 0.03902114, 0.01951057, 0.01951057,\n",
       "        0.1951057 , 0.09755285, 0.01951057, 0.05853171, 0.01951057,\n",
       "        0.03902114, 0.03902114, 0.01951057, 0.01951057, 0.01951057,\n",
       "        0.01951057, 0.01951057, 0.05853171, 0.01951057, 0.01951057,\n",
       "        0.01951057, 0.03902114, 0.01951057, 0.01951057, 0.03902114,\n",
       "        0.01951057, 0.01951057, 0.03902114, 0.03902114, 0.01951057,\n",
       "        0.11706342, 0.01951057, 0.01951057, 0.03902114, 0.01951057,\n",
       "        0.01951057, 0.03902114, 0.01951057, 0.01951057, 0.03902114,\n",
       "        0.5267854 , 0.01951057, 0.09755285, 0.01951057, 0.01951057,\n",
       "        0.05853171, 0.01951057, 0.03902114, 0.05853171, 0.03902114,\n",
       "        0.07804228, 0.01951057, 0.01951057, 0.01951057, 0.01951057,\n",
       "        0.01951057, 0.01951057, 0.01951057, 0.01951057, 0.01951057,\n",
       "        0.01951057, 0.01951057, 0.05853171, 0.01951057, 0.01951057,\n",
       "        0.01951057, 0.01951057, 0.01951057, 0.03902114, 0.03902114,\n",
       "        0.01951057, 0.03902114, 0.01951057, 0.01951057, 0.01951057,\n",
       "        0.03902114, 0.03902114, 0.01951057, 0.01951057, 0.09755285,\n",
       "        0.01951057, 0.01951057, 0.03902114, 0.03902114, 0.01951057,\n",
       "        0.01951057, 0.01951057, 0.01951057, 0.03902114, 0.01951057,\n",
       "        0.17559513, 0.11706342, 0.07804228, 0.01951057, 0.01951057,\n",
       "        0.09755285, 0.01951057, 0.01951057, 0.01951057, 0.01951057,\n",
       "        0.03902114, 0.17559513, 0.01951057, 0.01951057, 0.01951057,\n",
       "        0.03902114, 0.11706342, 0.01951057, 0.01951057, 0.07804228,\n",
       "        0.01951057, 0.01951057, 0.01951057, 0.03902114, 0.11706342,\n",
       "        0.01951057, 0.01951057, 0.01951057, 0.09755285, 0.01951057,\n",
       "        0.01951057, 0.03902114, 0.17559513, 0.01951057, 0.01951057,\n",
       "        0.07804228]])"
      ]
     },
     "execution_count": 68,
     "metadata": {},
     "output_type": "execute_result"
    }
   ],
   "source": [
    "user_sparse"
   ]
  },
  {
   "cell_type": "code",
   "execution_count": 69,
   "id": "2c8fb81f-0ee0-46ac-97f5-83b5acaa6b90",
   "metadata": {},
   "outputs": [
    {
     "ename": "ValueError",
     "evalue": "X has 231 features, but GaussianNB is expecting 21326 features as input.",
     "output_type": "error",
     "traceback": [
      "\u001b[1;31m---------------------------------------------------------------------------\u001b[0m",
      "\u001b[1;31mValueError\u001b[0m                                Traceback (most recent call last)",
      "Cell \u001b[1;32mIn[69], line 1\u001b[0m\n\u001b[1;32m----> 1\u001b[0m y_predfff \u001b[38;5;241m=\u001b[39m \u001b[43mclf\u001b[49m\u001b[38;5;241;43m.\u001b[39;49m\u001b[43mpredict\u001b[49m\u001b[43m(\u001b[49m\u001b[43muser_sparse\u001b[49m\u001b[43m)\u001b[49m\n",
      "File \u001b[1;32m~\\AppData\\Local\\Programs\\Python\\Python311\\Lib\\site-packages\\sklearn\\naive_bayes.py:101\u001b[0m, in \u001b[0;36m_BaseNB.predict\u001b[1;34m(self, X)\u001b[0m\n\u001b[0;32m     87\u001b[0m \u001b[38;5;250m\u001b[39m\u001b[38;5;124;03m\"\"\"\u001b[39;00m\n\u001b[0;32m     88\u001b[0m \u001b[38;5;124;03mPerform classification on an array of test vectors X.\u001b[39;00m\n\u001b[0;32m     89\u001b[0m \n\u001b[1;32m   (...)\u001b[0m\n\u001b[0;32m     98\u001b[0m \u001b[38;5;124;03m    Predicted target values for X.\u001b[39;00m\n\u001b[0;32m     99\u001b[0m \u001b[38;5;124;03m\"\"\"\u001b[39;00m\n\u001b[0;32m    100\u001b[0m check_is_fitted(\u001b[38;5;28mself\u001b[39m)\n\u001b[1;32m--> 101\u001b[0m X \u001b[38;5;241m=\u001b[39m \u001b[38;5;28;43mself\u001b[39;49m\u001b[38;5;241;43m.\u001b[39;49m\u001b[43m_check_X\u001b[49m\u001b[43m(\u001b[49m\u001b[43mX\u001b[49m\u001b[43m)\u001b[49m\n\u001b[0;32m    102\u001b[0m jll \u001b[38;5;241m=\u001b[39m \u001b[38;5;28mself\u001b[39m\u001b[38;5;241m.\u001b[39m_joint_log_likelihood(X)\n\u001b[0;32m    103\u001b[0m \u001b[38;5;28;01mreturn\u001b[39;00m \u001b[38;5;28mself\u001b[39m\u001b[38;5;241m.\u001b[39mclasses_[np\u001b[38;5;241m.\u001b[39margmax(jll, axis\u001b[38;5;241m=\u001b[39m\u001b[38;5;241m1\u001b[39m)]\n",
      "File \u001b[1;32m~\\AppData\\Local\\Programs\\Python\\Python311\\Lib\\site-packages\\sklearn\\naive_bayes.py:269\u001b[0m, in \u001b[0;36mGaussianNB._check_X\u001b[1;34m(self, X)\u001b[0m\n\u001b[0;32m    267\u001b[0m \u001b[38;5;28;01mdef\u001b[39;00m \u001b[38;5;21m_check_X\u001b[39m(\u001b[38;5;28mself\u001b[39m, X):\n\u001b[0;32m    268\u001b[0m \u001b[38;5;250m    \u001b[39m\u001b[38;5;124;03m\"\"\"Validate X, used only in predict* methods.\"\"\"\u001b[39;00m\n\u001b[1;32m--> 269\u001b[0m     \u001b[38;5;28;01mreturn\u001b[39;00m \u001b[38;5;28;43mself\u001b[39;49m\u001b[38;5;241;43m.\u001b[39;49m\u001b[43m_validate_data\u001b[49m\u001b[43m(\u001b[49m\u001b[43mX\u001b[49m\u001b[43m,\u001b[49m\u001b[43m \u001b[49m\u001b[43mreset\u001b[49m\u001b[38;5;241;43m=\u001b[39;49m\u001b[38;5;28;43;01mFalse\u001b[39;49;00m\u001b[43m)\u001b[49m\n",
      "File \u001b[1;32m~\\AppData\\Local\\Programs\\Python\\Python311\\Lib\\site-packages\\sklearn\\base.py:625\u001b[0m, in \u001b[0;36mBaseEstimator._validate_data\u001b[1;34m(self, X, y, reset, validate_separately, cast_to_ndarray, **check_params)\u001b[0m\n\u001b[0;32m    622\u001b[0m     out \u001b[38;5;241m=\u001b[39m X, y\n\u001b[0;32m    624\u001b[0m \u001b[38;5;28;01mif\u001b[39;00m \u001b[38;5;129;01mnot\u001b[39;00m no_val_X \u001b[38;5;129;01mand\u001b[39;00m check_params\u001b[38;5;241m.\u001b[39mget(\u001b[38;5;124m\"\u001b[39m\u001b[38;5;124mensure_2d\u001b[39m\u001b[38;5;124m\"\u001b[39m, \u001b[38;5;28;01mTrue\u001b[39;00m):\n\u001b[1;32m--> 625\u001b[0m     \u001b[38;5;28;43mself\u001b[39;49m\u001b[38;5;241;43m.\u001b[39;49m\u001b[43m_check_n_features\u001b[49m\u001b[43m(\u001b[49m\u001b[43mX\u001b[49m\u001b[43m,\u001b[49m\u001b[43m \u001b[49m\u001b[43mreset\u001b[49m\u001b[38;5;241;43m=\u001b[39;49m\u001b[43mreset\u001b[49m\u001b[43m)\u001b[49m\n\u001b[0;32m    627\u001b[0m \u001b[38;5;28;01mreturn\u001b[39;00m out\n",
      "File \u001b[1;32m~\\AppData\\Local\\Programs\\Python\\Python311\\Lib\\site-packages\\sklearn\\base.py:414\u001b[0m, in \u001b[0;36mBaseEstimator._check_n_features\u001b[1;34m(self, X, reset)\u001b[0m\n\u001b[0;32m    411\u001b[0m     \u001b[38;5;28;01mreturn\u001b[39;00m\n\u001b[0;32m    413\u001b[0m \u001b[38;5;28;01mif\u001b[39;00m n_features \u001b[38;5;241m!=\u001b[39m \u001b[38;5;28mself\u001b[39m\u001b[38;5;241m.\u001b[39mn_features_in_:\n\u001b[1;32m--> 414\u001b[0m     \u001b[38;5;28;01mraise\u001b[39;00m \u001b[38;5;167;01mValueError\u001b[39;00m(\n\u001b[0;32m    415\u001b[0m         \u001b[38;5;124mf\u001b[39m\u001b[38;5;124m\"\u001b[39m\u001b[38;5;124mX has \u001b[39m\u001b[38;5;132;01m{\u001b[39;00mn_features\u001b[38;5;132;01m}\u001b[39;00m\u001b[38;5;124m features, but \u001b[39m\u001b[38;5;132;01m{\u001b[39;00m\u001b[38;5;28mself\u001b[39m\u001b[38;5;241m.\u001b[39m\u001b[38;5;18m__class__\u001b[39m\u001b[38;5;241m.\u001b[39m\u001b[38;5;18m__name__\u001b[39m\u001b[38;5;132;01m}\u001b[39;00m\u001b[38;5;124m \u001b[39m\u001b[38;5;124m\"\u001b[39m\n\u001b[0;32m    416\u001b[0m         \u001b[38;5;124mf\u001b[39m\u001b[38;5;124m\"\u001b[39m\u001b[38;5;124mis expecting \u001b[39m\u001b[38;5;132;01m{\u001b[39;00m\u001b[38;5;28mself\u001b[39m\u001b[38;5;241m.\u001b[39mn_features_in_\u001b[38;5;132;01m}\u001b[39;00m\u001b[38;5;124m features as input.\u001b[39m\u001b[38;5;124m\"\u001b[39m\n\u001b[0;32m    417\u001b[0m     )\n",
      "\u001b[1;31mValueError\u001b[0m: X has 231 features, but GaussianNB is expecting 21326 features as input."
     ]
    }
   ],
   "source": [
    "y_predfff = clf.predict(user_sparse)"
   ]
  },
  {
   "cell_type": "code",
   "execution_count": 123,
   "id": "3693f6e0-1171-4b72-9991-faa365865957",
   "metadata": {},
   "outputs": [
    {
     "name": "stdout",
     "output_type": "stream",
     "text": [
      "[('AITA for hating my dad and uncle? I\\'m using a throw away. So, I am still in High School, but growing up my life hasn\\'t been very fun. My parents divorced early and I lived with my mom from 6-13 in Ohio, whereas I had been in Texas before. Anyway, When I was 13, I came home from school one day and my mom had been arrested for like the 5th time for doing drugs. But this time was permanent. (I haven\\'t seen her since.) After that, my grandma drove up to Ohio from Texas to get me, and brought my dad with her. Then we drove back, and I moved in with my grandma. My grandma is awesome. Anyway, I found out shortly after moving in that my uncle would also be living with my grandma. My uncle is 40. He has \"mental problems\" as my grandparents describe it, so they use that as an excuse to put up with his bs, such as leaving messes everywhere, trashes my grandmas car, never having a job, and they said he will probably never move out because is isn\\'t capable. So that went on for about 2 years, and oh man I hated it. His blatant disrespect for how lucky he was made me so angry. He was practically sucking financial resources out of my grandparents for free because he was lazy. Two years of rent free life. That combined with the fact that he is an enormous jerk really makes me hate him. After those 2 years, my grandma brings up that my dad, back in Dallas (I live in a very small town about an hour away) has been living on the streets long enough, so she lets HIM move in as well. When HE moves in, he does the same thing as my uncle. Freeloading, whining, being ungrateful, and just generally being a drain and a pain in the ass. Having to live with these two constantly makes me dread being home. It has made me really sour. I literally never smile when they are around, and I never speak to them. When they speak to me I just answer with quick one word answers and try to end the conversation as quickly as possible. My uncle still lives here, going on nearly 4 years (I\\'m 16.). My dad has been here for about 3 months, but he is no closer to moving out than he was when he got here. I am constantly reassured he will be gone as soon as he gets his first paycheck, but he doesn\\'t have a job and I\\'m not holding my breathe. My grandma knows I am super unhappy with them being here, but she and my sister both say I am being a dick. They say that my dad and uncle are family, and I shouldn\\'t hate them, that I should give them more chances. Since my entire life all of my family, besides my little sister and grandparents, have been drug addicts, failures, and freeloaders, I never really learned to value', 'NTA'), (\"AITA For not wanting to work for my parents? A while back I left a job to focus more on school. Money ran out faster than I thought and my parents, who own a small business, offered me a job. I took it because it was flexible, I could work from my place and mostly because I needed money. We all agreed that it would only be temporary as they didn't want me becoming dependent on them. After a while, my mom would even get irritated with me because I still had not found a job. Recently I found a job so I put in my 2 weeks notice and left. However, they still come to me and ask me to do things for their company. It's easy stuff like entering data, but with my new job and summer school I've been super busy. So I don't really have the time or the desire even to work for them. But I still get emails from my parents asking me to do stuff for them. Whenever I say no, I get a guilt trip. I get told that it wont take that long and they would pay me for it too. They even tell me that I'm not helping out around the house all because I don't want to do more reports. But I just really don't have the time to and I really don't want to either. So, AITA?\", 'NTA'), (\"AITA for wanting to celebrate my birthday I turned 30 on Monday. I don't have a problem with being 30 and I have never been big on having a party for me because I don't want to be the center of attention. Things are incredibly stressful because we are cleaning out our condo, which we officially close on the 30th. We can't close on our new house until the 14th of July and are staying with my parentson. Anyway, my husband insisted on throwing me a party, here at my parents' house. But he has to do condo stuff while I watch the kids so guess who has to do all the prep for my supposed to be a surprise party. That's right. I get that honor. On my actual birthday I just wanted to have dinner with my fsmily, but my mom was sick, so we didn't go. Fine, it happens. We reschedule for today. She is still sick, so she canceled with my grandparents and sister without asking and then said, well, you don't mind, right. I do mind, actually. I would like to go to dinner and she could just sit it out. But no, that is unreasonable. She days she wants to be part of a dinner she is paying for, but I never asked her or expected her to pay for it. I just want to go out and actually have a nice evening out. On my actual birthday I got to sleep in, and that was about it. My husband took it off, but after going onowhere a business trip last week and being going non stop with all we have on, he was tired and checked out and I basically did what I always do, which is to take care of the kids. I didn't go for a walk, which I asked to do, or take the kids five minutes down the road to a merry go round because that would have been fun. No one has listened to me at all and when I try to assert myself everyone else is the vicrime and how dare I because they all have the best intentions on what they want and that is all that matters. I am so upset I just want to have space, but there is none. I suffer from depression and anxiety, conditions I can't treat until I am back in state and can make an appointment. Is it up reasonable to want to do dinner without my mom just once?\", 'NTA'), ('AITA in this comment thread? >https://www.reddit.com/r/WatchItForThePlot/comments/4z0blo/mila_kunis_cheerleader_plot_on_that_70s_show/d6s4xyx Guy pulls the whole \"it\\'s not pedophilia, it\\'s hebephilia\" bullshit on a post of Mila Kunis when she was underage. I point out that it\\'s still pedophilia and get downvoted to hell. Guy gets super hostile and gets upvoted. Not sure what I\\'m missing here.', 'YTA'), ('AITA for doing it via text? So I went on three dates with a guy, we weren’t in an official relationship or anything we hadn’t even kissed. I got along with him really well but just decided I didn’t ‘fancy’ him. He was texting me about how on our next date we should have ‘cuddles’ etc so then I decided it was a good time to tell him that I actually didn’t want to continue dating but would love to still see him as a friend. He seemed really upset, which I was surprised at seeing as we had only seen each other 3 times and I said to him if he wants to meet up in person to talk about it that I would 100% be willing but he declined. But when I apologised he said he was actually glad I told him now rather than wait. I felt slightly guilty about texting him this instead of face to face, but I don’t drive so he would have had to pick me up, just for me to tell him and then he would have to drive me home after which would just have been inconvenient and awkward for both of us. The other day I told my friend about it and she made me feel really bad about it. She said I was horrible for texting him instead of telling him face to face. That I’m ‘usually such a nice girl’ and she couldn’t believe how disrespectful I had been. She went on for at least 15 minutes to the point where I felt like crying. I now feel extremely guilty. Am I an asshole?', 'NTA')]\n"
     ]
    }
   ],
   "source": [
    "import pandas as pd\n",
    "\n",
    "# Assuming df is your DataFrame\n",
    "temp = []\n",
    "new_df = df[:1000]\n",
    "for index, row in new_df.iterrows():\n",
    "    temp.append((row['title_body'], row['label']))\n",
    "\n",
    "# Print the first few elements of the list for verification\n",
    "print(temp[:5])\n"
   ]
  },
  {
   "cell_type": "code",
   "execution_count": 124,
   "id": "a650e788-f629-40ba-ad94-2d3cb76b3191",
   "metadata": {},
   "outputs": [
    {
     "data": {
      "text/plain": [
       "('AITA: I don’t want friends to invite their friends to my house. Having a small bbq with a few friends this weekend, and bc of circumstances we had to invite someone’s brother and he is now asking if he can invite more people. We know the people he wants to invite but we don’t want them to come... 1. The husband is super obnoxious and complains about everything 2. They never leave/party way harder than we do. I’m not really sure what to tell him bc we really don’t want these people to come but I feel like an asshole saying no.',\n",
       " 'NTA')"
      ]
     },
     "execution_count": 124,
     "metadata": {},
     "output_type": "execute_result"
    }
   ],
   "source": [
    "temp[10]"
   ]
  },
  {
   "cell_type": "code",
   "execution_count": 125,
   "id": "c795c1e3-2906-42f5-b390-32a210763af5",
   "metadata": {},
   "outputs": [
    {
     "data": {
      "text/plain": [
       "1000"
      ]
     },
     "execution_count": 125,
     "metadata": {},
     "output_type": "execute_result"
    }
   ],
   "source": [
    "len(temp)"
   ]
  },
  {
   "cell_type": "code",
   "execution_count": 126,
   "id": "a5ebd340-65c2-4e55-ac5a-2096429f402c",
   "metadata": {},
   "outputs": [
    {
     "data": {
      "text/plain": [
       "(1000, 3)"
      ]
     },
     "execution_count": 126,
     "metadata": {},
     "output_type": "execute_result"
    }
   ],
   "source": [
    "new_df.shape"
   ]
  },
  {
   "cell_type": "code",
   "execution_count": 127,
   "id": "62a426ca-6f90-4777-a367-db3732af4bd3",
   "metadata": {},
   "outputs": [
    {
     "name": "stderr",
     "output_type": "stream",
     "text": [
      "[nltk_data] Downloading package punkt to\n",
      "[nltk_data]     C:\\Users\\akhas\\AppData\\Roaming\\nltk_data...\n",
      "[nltk_data]   Package punkt is already up-to-date!\n",
      "[nltk_data] Downloading package stopwords to\n",
      "[nltk_data]     C:\\Users\\akhas\\AppData\\Roaming\\nltk_data...\n",
      "[nltk_data]   Package stopwords is already up-to-date!\n",
      "[nltk_data] Downloading package wordnet to\n",
      "[nltk_data]     C:\\Users\\akhas\\AppData\\Roaming\\nltk_data...\n",
      "[nltk_data]   Package wordnet is already up-to-date!\n"
     ]
    },
    {
     "name": "stdout",
     "output_type": "stream",
     "text": [
      "Accuracy: 0.78\n"
     ]
    }
   ],
   "source": [
    "import nltk\n",
    "from nltk.tokenize import word_tokenize\n",
    "from nltk.corpus import stopwords\n",
    "from nltk.stem import WordNetLemmatizer\n",
    "from nltk.probability import FreqDist\n",
    "from sklearn.model_selection import train_test_split\n",
    "from sklearn.naive_bayes import MultinomialNB\n",
    "from sklearn.metrics import accuracy_score\n",
    "\n",
    "# Download NLTK resources\n",
    "nltk.download('punkt')\n",
    "nltk.download('stopwords')\n",
    "nltk.download('wordnet')\n",
    "\n",
    "# Sample dataset (replace this with your dataset)\n",
    "data = temp\n",
    "\n",
    "# Preprocess data\n",
    "lemmatizer = WordNetLemmatizer()\n",
    "stop_words = set(stopwords.words('english'))\n",
    "\n",
    "def preprocess_text(text):\n",
    "    tokens = word_tokenize(text.lower())\n",
    "    tokens = [lemmatizer.lemmatize(token) for token in tokens if token.isalnum()]\n",
    "    tokens = [token for token in tokens if token not in stop_words]\n",
    "    return tokens\n",
    "\n",
    "# Create feature set\n",
    "all_words = FreqDist()\n",
    "for text, _ in data:\n",
    "    for word in preprocess_text(text):\n",
    "        all_words[word] += 1\n",
    "\n",
    "word_features = list(all_words.keys())\n",
    "\n",
    "def extract_features(text):\n",
    "    words = set(preprocess_text(text))\n",
    "    features = {}\n",
    "    for word in word_features:\n",
    "        features[word] = (word in words)\n",
    "    return features\n",
    "\n",
    "# Split data into training and test sets\n",
    "featuresets = [(extract_features(text), label) for text, label in data]\n",
    "train_set, test_set = train_test_split(featuresets, test_size=0.3, random_state=42)\n",
    "\n",
    "# Train the Naive Bayes classifier\n",
    "classifier = nltk.NaiveBayesClassifier.train(train_set)\n",
    "\n",
    "# Evaluate the classifier\n",
    "y_true = [label for _, label in test_set]\n",
    "y_pred = [classifier.classify(features) for features, _ in test_set]\n",
    "accuracy = accuracy_score(y_true, y_pred)\n",
    "\n",
    "print(f\"Accuracy: {accuracy:.2f}\")\n"
   ]
  },
  {
   "cell_type": "code",
   "execution_count": 132,
   "id": "59ff5beb-162c-45bb-9e56-3c14f81c027c",
   "metadata": {},
   "outputs": [
    {
     "name": "stdin",
     "output_type": "stream",
     "text": [
      "Enter your scenario:  meow meow nigga\n"
     ]
    },
    {
     "name": "stdout",
     "output_type": "stream",
     "text": [
      "Based on your scenario, you are considered: NTA\n"
     ]
    }
   ],
   "source": [
    "# Get input from user\n",
    "user_input = input(\"Enter your scenario: \")\n",
    "\n",
    "# Preprocess user input\n",
    "user_features = extract_features(user_input)\n",
    "\n",
    "# Use the trained classifier to predict the label\n",
    "prediction = classifier.classify(user_features)\n",
    "\n",
    "# Display the prediction\n",
    "print(f\"Based on your scenario, you are considered: {prediction}\")"
   ]
  },
  {
   "cell_type": "code",
   "execution_count": 128,
   "id": "ccd93242-eb4f-40d2-a879-c7b75e15d9de",
   "metadata": {},
   "outputs": [
    {
     "data": {
      "text/plain": [
       "['YTA',\n",
       " 'NTA',\n",
       " 'NTA',\n",
       " 'NTA',\n",
       " 'NTA',\n",
       " 'NTA',\n",
       " 'NTA',\n",
       " 'NTA',\n",
       " 'NTA',\n",
       " 'NTA',\n",
       " 'NTA',\n",
       " 'NTA',\n",
       " 'NTA',\n",
       " 'YTA',\n",
       " 'NTA',\n",
       " 'NTA',\n",
       " 'YTA',\n",
       " 'NTA',\n",
       " 'NTA',\n",
       " 'NTA',\n",
       " 'YTA',\n",
       " 'NTA',\n",
       " 'NTA',\n",
       " 'YTA',\n",
       " 'NTA',\n",
       " 'NTA',\n",
       " 'NTA',\n",
       " 'NTA',\n",
       " 'NTA',\n",
       " 'YTA',\n",
       " 'NTA',\n",
       " 'NTA',\n",
       " 'YTA',\n",
       " 'NTA',\n",
       " 'YTA',\n",
       " 'NTA',\n",
       " 'NTA',\n",
       " 'NTA',\n",
       " 'NTA',\n",
       " 'NTA',\n",
       " 'NTA',\n",
       " 'NTA',\n",
       " 'NTA',\n",
       " 'YTA',\n",
       " 'YTA',\n",
       " 'NTA',\n",
       " 'NTA',\n",
       " 'YTA',\n",
       " 'NTA',\n",
       " 'NTA',\n",
       " 'NTA',\n",
       " 'NTA',\n",
       " 'NTA',\n",
       " 'NTA',\n",
       " 'NTA',\n",
       " 'NTA',\n",
       " 'NTA',\n",
       " 'NTA',\n",
       " 'NTA',\n",
       " 'NTA',\n",
       " 'NTA',\n",
       " 'NTA',\n",
       " 'NTA',\n",
       " 'NTA',\n",
       " 'NTA',\n",
       " 'NTA',\n",
       " 'NTA',\n",
       " 'NTA',\n",
       " 'NTA',\n",
       " 'YTA',\n",
       " 'YTA',\n",
       " 'NTA',\n",
       " 'NTA',\n",
       " 'NTA',\n",
       " 'NTA',\n",
       " 'NTA',\n",
       " 'YTA',\n",
       " 'NTA',\n",
       " 'NTA',\n",
       " 'NTA',\n",
       " 'NTA',\n",
       " 'NTA',\n",
       " 'NTA',\n",
       " 'YTA',\n",
       " 'YTA',\n",
       " 'NTA',\n",
       " 'NTA',\n",
       " 'NTA',\n",
       " 'NTA',\n",
       " 'NTA',\n",
       " 'NTA',\n",
       " 'NTA',\n",
       " 'NTA',\n",
       " 'NTA',\n",
       " 'NTA',\n",
       " 'NTA',\n",
       " 'YTA',\n",
       " 'NTA',\n",
       " 'NTA',\n",
       " 'NTA',\n",
       " 'NTA',\n",
       " 'NTA',\n",
       " 'NTA',\n",
       " 'NTA',\n",
       " 'NTA',\n",
       " 'YTA',\n",
       " 'NTA',\n",
       " 'NTA',\n",
       " 'NTA',\n",
       " 'YTA',\n",
       " 'YTA',\n",
       " 'NTA',\n",
       " 'NTA',\n",
       " 'NTA',\n",
       " 'NTA',\n",
       " 'YTA',\n",
       " 'NTA',\n",
       " 'YTA',\n",
       " 'NTA',\n",
       " 'NTA',\n",
       " 'NTA',\n",
       " 'NTA',\n",
       " 'NTA',\n",
       " 'NTA',\n",
       " 'NTA',\n",
       " 'NTA',\n",
       " 'YTA',\n",
       " 'NTA',\n",
       " 'NTA',\n",
       " 'NTA',\n",
       " 'NTA',\n",
       " 'NTA',\n",
       " 'NTA',\n",
       " 'YTA',\n",
       " 'NTA',\n",
       " 'NTA',\n",
       " 'NTA',\n",
       " 'NTA',\n",
       " 'NTA',\n",
       " 'NTA',\n",
       " 'NTA',\n",
       " 'NTA',\n",
       " 'NTA',\n",
       " 'YTA',\n",
       " 'YTA',\n",
       " 'NTA',\n",
       " 'NTA',\n",
       " 'NTA',\n",
       " 'NTA',\n",
       " 'NTA',\n",
       " 'NTA',\n",
       " 'NTA',\n",
       " 'YTA',\n",
       " 'NTA',\n",
       " 'NTA',\n",
       " 'NTA',\n",
       " 'YTA',\n",
       " 'YTA',\n",
       " 'NTA',\n",
       " 'NTA',\n",
       " 'NTA',\n",
       " 'NTA',\n",
       " 'NTA',\n",
       " 'NTA',\n",
       " 'NTA',\n",
       " 'NTA',\n",
       " 'NTA',\n",
       " 'YTA',\n",
       " 'NTA',\n",
       " 'NTA',\n",
       " 'NTA',\n",
       " 'NTA',\n",
       " 'NTA',\n",
       " 'YTA',\n",
       " 'NTA',\n",
       " 'NTA',\n",
       " 'YTA',\n",
       " 'NTA',\n",
       " 'NTA',\n",
       " 'NTA',\n",
       " 'YTA',\n",
       " 'YTA',\n",
       " 'NTA',\n",
       " 'NTA',\n",
       " 'YTA',\n",
       " 'NTA',\n",
       " 'NTA',\n",
       " 'NTA',\n",
       " 'NTA',\n",
       " 'NTA',\n",
       " 'YTA',\n",
       " 'NTA',\n",
       " 'NTA',\n",
       " 'NTA',\n",
       " 'NTA',\n",
       " 'NTA',\n",
       " 'NTA',\n",
       " 'NTA',\n",
       " 'NTA',\n",
       " 'NTA',\n",
       " 'NTA',\n",
       " 'YTA',\n",
       " 'NTA',\n",
       " 'NTA',\n",
       " 'NTA',\n",
       " 'NTA',\n",
       " 'NTA',\n",
       " 'NTA',\n",
       " 'NTA',\n",
       " 'NTA',\n",
       " 'NTA',\n",
       " 'YTA',\n",
       " 'NTA',\n",
       " 'NTA',\n",
       " 'NTA',\n",
       " 'NTA',\n",
       " 'NTA',\n",
       " 'NTA',\n",
       " 'NTA',\n",
       " 'YTA',\n",
       " 'NTA',\n",
       " 'NTA',\n",
       " 'NTA',\n",
       " 'NTA',\n",
       " 'NTA',\n",
       " 'NTA',\n",
       " 'YTA',\n",
       " 'NTA',\n",
       " 'NTA',\n",
       " 'NTA',\n",
       " 'NTA',\n",
       " 'YTA',\n",
       " 'NTA',\n",
       " 'NTA',\n",
       " 'NTA',\n",
       " 'NTA',\n",
       " 'NTA',\n",
       " 'NTA',\n",
       " 'NTA',\n",
       " 'NTA',\n",
       " 'YTA',\n",
       " 'NTA',\n",
       " 'NTA',\n",
       " 'NTA',\n",
       " 'NTA',\n",
       " 'NTA',\n",
       " 'NTA',\n",
       " 'NTA',\n",
       " 'YTA',\n",
       " 'NTA',\n",
       " 'NTA',\n",
       " 'YTA',\n",
       " 'NTA',\n",
       " 'YTA',\n",
       " 'NTA',\n",
       " 'NTA',\n",
       " 'YTA',\n",
       " 'NTA',\n",
       " 'NTA',\n",
       " 'NTA',\n",
       " 'YTA',\n",
       " 'NTA',\n",
       " 'NTA',\n",
       " 'NTA',\n",
       " 'YTA',\n",
       " 'NTA',\n",
       " 'NTA',\n",
       " 'NTA',\n",
       " 'NTA',\n",
       " 'NTA',\n",
       " 'YTA',\n",
       " 'NTA',\n",
       " 'NTA',\n",
       " 'NTA',\n",
       " 'NTA',\n",
       " 'NTA',\n",
       " 'NTA',\n",
       " 'NTA',\n",
       " 'YTA',\n",
       " 'NTA',\n",
       " 'NTA',\n",
       " 'NTA',\n",
       " 'NTA',\n",
       " 'NTA',\n",
       " 'NTA',\n",
       " 'NTA',\n",
       " 'NTA',\n",
       " 'NTA',\n",
       " 'NTA',\n",
       " 'NTA',\n",
       " 'YTA',\n",
       " 'NTA',\n",
       " 'NTA',\n",
       " 'NTA',\n",
       " 'NTA',\n",
       " 'YTA',\n",
       " 'NTA',\n",
       " 'NTA',\n",
       " 'NTA',\n",
       " 'NTA']"
      ]
     },
     "execution_count": 128,
     "metadata": {},
     "output_type": "execute_result"
    }
   ],
   "source": [
    "y_true"
   ]
  },
  {
   "cell_type": "code",
   "execution_count": 129,
   "id": "fd29195b-5da4-45a1-af25-4cebb169807b",
   "metadata": {},
   "outputs": [
    {
     "data": {
      "text/plain": [
       "['NTA',\n",
       " 'NTA',\n",
       " 'NTA',\n",
       " 'NTA',\n",
       " 'NTA',\n",
       " 'NTA',\n",
       " 'NTA',\n",
       " 'NTA',\n",
       " 'NTA',\n",
       " 'NTA',\n",
       " 'NTA',\n",
       " 'YTA',\n",
       " 'NTA',\n",
       " 'NTA',\n",
       " 'NTA',\n",
       " 'NTA',\n",
       " 'NTA',\n",
       " 'NTA',\n",
       " 'NTA',\n",
       " 'NTA',\n",
       " 'NTA',\n",
       " 'NTA',\n",
       " 'NTA',\n",
       " 'NTA',\n",
       " 'NTA',\n",
       " 'NTA',\n",
       " 'NTA',\n",
       " 'NTA',\n",
       " 'NTA',\n",
       " 'NTA',\n",
       " 'NTA',\n",
       " 'NTA',\n",
       " 'NTA',\n",
       " 'NTA',\n",
       " 'NTA',\n",
       " 'YTA',\n",
       " 'NTA',\n",
       " 'NTA',\n",
       " 'NTA',\n",
       " 'NTA',\n",
       " 'NTA',\n",
       " 'NTA',\n",
       " 'NTA',\n",
       " 'NTA',\n",
       " 'NTA',\n",
       " 'NTA',\n",
       " 'NTA',\n",
       " 'NTA',\n",
       " 'NTA',\n",
       " 'NTA',\n",
       " 'NTA',\n",
       " 'NTA',\n",
       " 'NTA',\n",
       " 'NTA',\n",
       " 'NTA',\n",
       " 'NTA',\n",
       " 'NTA',\n",
       " 'NTA',\n",
       " 'NTA',\n",
       " 'NTA',\n",
       " 'NTA',\n",
       " 'NTA',\n",
       " 'NTA',\n",
       " 'NTA',\n",
       " 'NTA',\n",
       " 'NTA',\n",
       " 'NTA',\n",
       " 'NTA',\n",
       " 'YTA',\n",
       " 'NTA',\n",
       " 'NTA',\n",
       " 'YTA',\n",
       " 'NTA',\n",
       " 'NTA',\n",
       " 'NTA',\n",
       " 'NTA',\n",
       " 'NTA',\n",
       " 'NTA',\n",
       " 'NTA',\n",
       " 'NTA',\n",
       " 'NTA',\n",
       " 'NTA',\n",
       " 'NTA',\n",
       " 'NTA',\n",
       " 'NTA',\n",
       " 'NTA',\n",
       " 'NTA',\n",
       " 'NTA',\n",
       " 'NTA',\n",
       " 'NTA',\n",
       " 'NTA',\n",
       " 'NTA',\n",
       " 'NTA',\n",
       " 'NTA',\n",
       " 'NTA',\n",
       " 'YTA',\n",
       " 'NTA',\n",
       " 'NTA',\n",
       " 'NTA',\n",
       " 'NTA',\n",
       " 'NTA',\n",
       " 'NTA',\n",
       " 'NTA',\n",
       " 'NTA',\n",
       " 'NTA',\n",
       " 'NTA',\n",
       " 'NTA',\n",
       " 'NTA',\n",
       " 'NTA',\n",
       " 'NTA',\n",
       " 'NTA',\n",
       " 'NTA',\n",
       " 'NTA',\n",
       " 'NTA',\n",
       " 'NTA',\n",
       " 'NTA',\n",
       " 'NTA',\n",
       " 'NTA',\n",
       " 'YTA',\n",
       " 'NTA',\n",
       " 'NTA',\n",
       " 'NTA',\n",
       " 'NTA',\n",
       " 'NTA',\n",
       " 'NTA',\n",
       " 'NTA',\n",
       " 'NTA',\n",
       " 'NTA',\n",
       " 'NTA',\n",
       " 'NTA',\n",
       " 'NTA',\n",
       " 'NTA',\n",
       " 'NTA',\n",
       " 'NTA',\n",
       " 'NTA',\n",
       " 'NTA',\n",
       " 'NTA',\n",
       " 'NTA',\n",
       " 'NTA',\n",
       " 'NTA',\n",
       " 'NTA',\n",
       " 'NTA',\n",
       " 'NTA',\n",
       " 'NTA',\n",
       " 'NTA',\n",
       " 'NTA',\n",
       " 'NTA',\n",
       " 'NTA',\n",
       " 'NTA',\n",
       " 'NTA',\n",
       " 'NTA',\n",
       " 'NTA',\n",
       " 'YTA',\n",
       " 'NTA',\n",
       " 'NTA',\n",
       " 'NTA',\n",
       " 'NTA',\n",
       " 'NTA',\n",
       " 'NTA',\n",
       " 'NTA',\n",
       " 'NTA',\n",
       " 'NTA',\n",
       " 'NTA',\n",
       " 'NTA',\n",
       " 'YTA',\n",
       " 'NTA',\n",
       " 'NTA',\n",
       " 'NTA',\n",
       " 'NTA',\n",
       " 'NTA',\n",
       " 'NTA',\n",
       " 'NTA',\n",
       " 'NTA',\n",
       " 'YTA',\n",
       " 'NTA',\n",
       " 'NTA',\n",
       " 'NTA',\n",
       " 'NTA',\n",
       " 'NTA',\n",
       " 'YTA',\n",
       " 'NTA',\n",
       " 'NTA',\n",
       " 'NTA',\n",
       " 'NTA',\n",
       " 'NTA',\n",
       " 'NTA',\n",
       " 'NTA',\n",
       " 'NTA',\n",
       " 'NTA',\n",
       " 'NTA',\n",
       " 'NTA',\n",
       " 'NTA',\n",
       " 'NTA',\n",
       " 'NTA',\n",
       " 'NTA',\n",
       " 'NTA',\n",
       " 'YTA',\n",
       " 'NTA',\n",
       " 'NTA',\n",
       " 'NTA',\n",
       " 'NTA',\n",
       " 'NTA',\n",
       " 'NTA',\n",
       " 'NTA',\n",
       " 'NTA',\n",
       " 'NTA',\n",
       " 'NTA',\n",
       " 'NTA',\n",
       " 'NTA',\n",
       " 'NTA',\n",
       " 'NTA',\n",
       " 'NTA',\n",
       " 'NTA',\n",
       " 'NTA',\n",
       " 'YTA',\n",
       " 'NTA',\n",
       " 'NTA',\n",
       " 'NTA',\n",
       " 'YTA',\n",
       " 'NTA',\n",
       " 'NTA',\n",
       " 'NTA',\n",
       " 'NTA',\n",
       " 'NTA',\n",
       " 'NTA',\n",
       " 'NTA',\n",
       " 'NTA',\n",
       " 'NTA',\n",
       " 'NTA',\n",
       " 'NTA',\n",
       " 'NTA',\n",
       " 'NTA',\n",
       " 'NTA',\n",
       " 'NTA',\n",
       " 'NTA',\n",
       " 'NTA',\n",
       " 'NTA',\n",
       " 'NTA',\n",
       " 'NTA',\n",
       " 'NTA',\n",
       " 'NTA',\n",
       " 'YTA',\n",
       " 'NTA',\n",
       " 'NTA',\n",
       " 'NTA',\n",
       " 'NTA',\n",
       " 'NTA',\n",
       " 'NTA',\n",
       " 'NTA',\n",
       " 'NTA',\n",
       " 'NTA',\n",
       " 'NTA',\n",
       " 'NTA',\n",
       " 'NTA',\n",
       " 'NTA',\n",
       " 'YTA',\n",
       " 'NTA',\n",
       " 'NTA',\n",
       " 'NTA',\n",
       " 'NTA',\n",
       " 'NTA',\n",
       " 'YTA',\n",
       " 'NTA',\n",
       " 'NTA',\n",
       " 'YTA',\n",
       " 'YTA',\n",
       " 'NTA',\n",
       " 'NTA',\n",
       " 'NTA',\n",
       " 'NTA',\n",
       " 'NTA',\n",
       " 'NTA',\n",
       " 'NTA',\n",
       " 'NTA',\n",
       " 'NTA',\n",
       " 'NTA',\n",
       " 'NTA',\n",
       " 'NTA',\n",
       " 'NTA',\n",
       " 'NTA',\n",
       " 'NTA',\n",
       " 'NTA',\n",
       " 'NTA',\n",
       " 'NTA',\n",
       " 'NTA',\n",
       " 'YTA',\n",
       " 'NTA',\n",
       " 'NTA',\n",
       " 'NTA',\n",
       " 'NTA',\n",
       " 'YTA',\n",
       " 'NTA',\n",
       " 'NTA',\n",
       " 'NTA',\n",
       " 'NTA',\n",
       " 'NTA',\n",
       " 'NTA',\n",
       " 'YTA',\n",
       " 'NTA',\n",
       " 'NTA']"
      ]
     },
     "execution_count": 129,
     "metadata": {},
     "output_type": "execute_result"
    }
   ],
   "source": [
    "y_pred"
   ]
  },
  {
   "cell_type": "code",
   "execution_count": 130,
   "id": "20fee007-ebfc-477d-9c6b-407b19f2886c",
   "metadata": {},
   "outputs": [
    {
     "ename": "ValueError",
     "evalue": "too many values to unpack (expected 2)",
     "output_type": "error",
     "traceback": [
      "\u001b[1;31m---------------------------------------------------------------------------\u001b[0m",
      "\u001b[1;31mValueError\u001b[0m                                Traceback (most recent call last)",
      "Cell \u001b[1;32mIn[130], line 3\u001b[0m\n\u001b[0;32m      1\u001b[0m userinput\u001b[38;5;241m=\u001b[39m[]\n\u001b[0;32m      2\u001b[0m userinput\u001b[38;5;241m.\u001b[39mappend(\u001b[38;5;124m\"\u001b[39m\u001b[38;5;124mmeow meow nigga\u001b[39m\u001b[38;5;124m\"\u001b[39m)\n\u001b[1;32m----> 3\u001b[0m ans \u001b[38;5;241m=\u001b[39m \u001b[43m[\u001b[49m\u001b[43mclassifier\u001b[49m\u001b[38;5;241;43m.\u001b[39;49m\u001b[43mclassify\u001b[49m\u001b[43m(\u001b[49m\u001b[43mfeatures\u001b[49m\u001b[43m)\u001b[49m\u001b[43m \u001b[49m\u001b[38;5;28;43;01mfor\u001b[39;49;00m\u001b[43m \u001b[49m\u001b[43mfeatures\u001b[49m\u001b[43m,\u001b[49m\u001b[43m \u001b[49m\u001b[43m_\u001b[49m\u001b[43m \u001b[49m\u001b[38;5;129;43;01min\u001b[39;49;00m\u001b[43m \u001b[49m\u001b[43muserinput\u001b[49m\u001b[43m]\u001b[49m\n\u001b[0;32m      4\u001b[0m \u001b[38;5;28mprint\u001b[39m(ans)\n",
      "Cell \u001b[1;32mIn[130], line 3\u001b[0m, in \u001b[0;36m<listcomp>\u001b[1;34m(.0)\u001b[0m\n\u001b[0;32m      1\u001b[0m userinput\u001b[38;5;241m=\u001b[39m[]\n\u001b[0;32m      2\u001b[0m userinput\u001b[38;5;241m.\u001b[39mappend(\u001b[38;5;124m\"\u001b[39m\u001b[38;5;124mmeow meow nigga\u001b[39m\u001b[38;5;124m\"\u001b[39m)\n\u001b[1;32m----> 3\u001b[0m ans \u001b[38;5;241m=\u001b[39m [classifier\u001b[38;5;241m.\u001b[39mclassify(features) \u001b[38;5;28;01mfor\u001b[39;00m features, _ \u001b[38;5;129;01min\u001b[39;00m userinput]\n\u001b[0;32m      4\u001b[0m \u001b[38;5;28mprint\u001b[39m(ans)\n",
      "\u001b[1;31mValueError\u001b[0m: too many values to unpack (expected 2)"
     ]
    }
   ],
   "source": [
    "userinput=[]\n",
    "userinput.append(\"meow meow nigga\")\n",
    "ans = [classifier.classify(features) for features, _ in userinput]\n",
    "print(ans)"
   ]
  },
  {
   "cell_type": "code",
   "execution_count": null,
   "id": "d86b9100-60b4-41c7-8aac-79f4bc07d040",
   "metadata": {},
   "outputs": [],
   "source": []
  },
  {
   "cell_type": "code",
   "execution_count": null,
   "id": "5358ded0-4ddd-4e64-bc5d-545fe360ee0f",
   "metadata": {},
   "outputs": [],
   "source": []
  },
  {
   "cell_type": "code",
   "execution_count": null,
   "id": "f6502df2-4347-4b48-a2c7-458905f7d541",
   "metadata": {},
   "outputs": [],
   "source": []
  },
  {
   "cell_type": "code",
   "execution_count": null,
   "id": "6c98edbc-9ab4-4e46-ba59-c812ab8aa760",
   "metadata": {},
   "outputs": [],
   "source": []
  },
  {
   "cell_type": "code",
   "execution_count": null,
   "id": "bbe405ff-7584-44a3-ad14-99e77b57064c",
   "metadata": {},
   "outputs": [],
   "source": []
  },
  {
   "cell_type": "code",
   "execution_count": null,
   "id": "275dedb5-bb7c-4f92-a2cb-23c7432da850",
   "metadata": {},
   "outputs": [],
   "source": []
  },
  {
   "cell_type": "code",
   "execution_count": null,
   "id": "d4ea304c-416c-4626-8cb1-a1514b4eface",
   "metadata": {},
   "outputs": [],
   "source": []
  },
  {
   "cell_type": "code",
   "execution_count": null,
   "id": "f786dab4-fedd-4abe-b4b0-56ba1e49d8da",
   "metadata": {},
   "outputs": [],
   "source": []
  },
  {
   "cell_type": "code",
   "execution_count": null,
   "id": "d669fac1-0668-4998-b402-c36aaaba3e8e",
   "metadata": {},
   "outputs": [],
   "source": []
  },
  {
   "cell_type": "code",
   "execution_count": null,
   "id": "720c651c-8724-487d-a75b-97e76899ba01",
   "metadata": {},
   "outputs": [],
   "source": []
  },
  {
   "cell_type": "code",
   "execution_count": null,
   "id": "a766630d-6fd9-4de8-bc8e-b0c4cd8f0b86",
   "metadata": {},
   "outputs": [],
   "source": []
  },
  {
   "cell_type": "code",
   "execution_count": null,
   "id": "43eb5bbf-c662-49bc-8f49-bfe9fa41c04e",
   "metadata": {},
   "outputs": [],
   "source": []
  },
  {
   "cell_type": "code",
   "execution_count": null,
   "id": "775b0ad5-5125-44a7-be82-c3b02d5f77a4",
   "metadata": {},
   "outputs": [],
   "source": []
  },
  {
   "cell_type": "code",
   "execution_count": null,
   "id": "62a13e1d-7cd4-495e-9008-7fc9f8a1b474",
   "metadata": {},
   "outputs": [],
   "source": []
  },
  {
   "cell_type": "code",
   "execution_count": null,
   "id": "fda18cf5-90d3-4822-8a9b-fb6447312ad7",
   "metadata": {},
   "outputs": [],
   "source": []
  },
  {
   "cell_type": "code",
   "execution_count": null,
   "id": "0d017bf6-15bc-4d3c-ac21-46976c82741b",
   "metadata": {},
   "outputs": [],
   "source": []
  },
  {
   "cell_type": "code",
   "execution_count": null,
   "id": "a963a373-15fc-47a7-ac74-7a094217b7ae",
   "metadata": {},
   "outputs": [],
   "source": []
  },
  {
   "cell_type": "code",
   "execution_count": null,
   "id": "07cea51a-8929-4ea4-af1e-559fb15592c9",
   "metadata": {},
   "outputs": [],
   "source": []
  },
  {
   "cell_type": "code",
   "execution_count": null,
   "id": "9b9df6dd-8a2e-4729-a094-e1e5817e65be",
   "metadata": {},
   "outputs": [],
   "source": []
  },
  {
   "cell_type": "code",
   "execution_count": null,
   "id": "1c8aceae-5bf5-405b-9ccb-fa517d5344f4",
   "metadata": {},
   "outputs": [],
   "source": []
  },
  {
   "cell_type": "code",
   "execution_count": null,
   "id": "a301df62-165c-4529-8d80-e5a9ca60e598",
   "metadata": {},
   "outputs": [],
   "source": []
  },
  {
   "cell_type": "code",
   "execution_count": null,
   "id": "9f533e72-2f60-4087-a049-2dee9ad98397",
   "metadata": {},
   "outputs": [],
   "source": []
  },
  {
   "cell_type": "code",
   "execution_count": null,
   "id": "a3288e9c-7950-4240-88e0-2c5d67a46092",
   "metadata": {},
   "outputs": [],
   "source": []
  },
  {
   "cell_type": "code",
   "execution_count": null,
   "id": "42d20a37-f156-45b4-91da-f4bffa9d1015",
   "metadata": {},
   "outputs": [],
   "source": []
  },
  {
   "cell_type": "code",
   "execution_count": null,
   "id": "21d89db6-d26d-46ff-a640-332d8e209b4b",
   "metadata": {},
   "outputs": [],
   "source": []
  },
  {
   "cell_type": "code",
   "execution_count": null,
   "id": "3a8ea730-0e10-4829-ae22-6da9c6bdb9d6",
   "metadata": {},
   "outputs": [],
   "source": []
  }
 ],
 "metadata": {
  "kernelspec": {
   "display_name": "Python 3 (ipykernel)",
   "language": "python",
   "name": "python3"
  },
  "language_info": {
   "codemirror_mode": {
    "name": "ipython",
    "version": 3
   },
   "file_extension": ".py",
   "mimetype": "text/x-python",
   "name": "python",
   "nbconvert_exporter": "python",
   "pygments_lexer": "ipython3",
   "version": "3.11.5"
  }
 },
 "nbformat": 4,
 "nbformat_minor": 5
}
