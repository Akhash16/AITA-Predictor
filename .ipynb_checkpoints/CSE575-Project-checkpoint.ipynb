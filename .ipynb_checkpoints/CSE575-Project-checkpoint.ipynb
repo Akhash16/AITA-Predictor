{
 "cells": [
  {
   "cell_type": "code",
   "execution_count": 21,
   "id": "381d6373-802e-45a3-bd3c-61e5e8deacb6",
   "metadata": {},
   "outputs": [],
   "source": [
    "import pandas as pd\n",
    "import numpy as np\n",
    "from tqdm import tqdm\n",
    "from sklearn.feature_extraction.text import TfidfVectorizer\n",
    "from sklearn.tree import DecisionTreeClassifier\n",
    "import warnings\n",
    "warnings.filterwarnings('ignore')"
   ]
  },
  {
   "cell_type": "code",
   "execution_count": 22,
   "id": "2dd49b48-f660-40f7-a279-a1a384566678",
   "metadata": {},
   "outputs": [],
   "source": [
    "df = pd.read_csv(\"cleaned_post_comment.csv\")"
   ]
  },
  {
   "cell_type": "code",
   "execution_count": 23,
   "id": "4a4128bd-a3d4-4280-b204-2f05745a4566",
   "metadata": {},
   "outputs": [],
   "source": [
    "df=df[:15000]"
   ]
  },
  {
   "cell_type": "code",
   "execution_count": 24,
   "id": "f2b1367d-af64-4731-a592-0bd021c293d1",
   "metadata": {},
   "outputs": [
    {
     "data": {
      "text/html": [
       "<div>\n",
       "<style scoped>\n",
       "    .dataframe tbody tr th:only-of-type {\n",
       "        vertical-align: middle;\n",
       "    }\n",
       "\n",
       "    .dataframe tbody tr th {\n",
       "        vertical-align: top;\n",
       "    }\n",
       "\n",
       "    .dataframe thead th {\n",
       "        text-align: right;\n",
       "    }\n",
       "</style>\n",
       "<table border=\"1\" class=\"dataframe\">\n",
       "  <thead>\n",
       "    <tr style=\"text-align: right;\">\n",
       "      <th></th>\n",
       "      <th>Unnamed: 0</th>\n",
       "      <th>title_body</th>\n",
       "      <th>comment</th>\n",
       "    </tr>\n",
       "  </thead>\n",
       "  <tbody>\n",
       "    <tr>\n",
       "      <th>0</th>\n",
       "      <td>0</td>\n",
       "      <td>[AITA] I wrote an explanation in TIL and came ...</td>\n",
       "      <td>&lt;|response|&gt; There is nothing wrong with your ...</td>\n",
       "    </tr>\n",
       "    <tr>\n",
       "      <th>1</th>\n",
       "      <td>1</td>\n",
       "      <td>[AITA] Threw my parent's donuts away My parent...</td>\n",
       "      <td>&lt;|response|&gt; Yep. You're the asshole. If you w...</td>\n",
       "    </tr>\n",
       "    <tr>\n",
       "      <th>2</th>\n",
       "      <td>2</td>\n",
       "      <td>I told a goth girl she looked like a clown. I ...</td>\n",
       "      <td>&lt;|response|&gt; Kids say ridiculous things all th...</td>\n",
       "    </tr>\n",
       "    <tr>\n",
       "      <th>3</th>\n",
       "      <td>3</td>\n",
       "      <td>[AItA]: Argument I had with another redditor i...</td>\n",
       "      <td>&lt;|response|&gt; I'm not reading that. But don't s...</td>\n",
       "    </tr>\n",
       "    <tr>\n",
       "      <th>4</th>\n",
       "      <td>4</td>\n",
       "      <td>[AITA] I let my story get a little long and bo...</td>\n",
       "      <td>&lt;|response|&gt; A real yawn? Or an I'm-trying-to-...</td>\n",
       "    </tr>\n",
       "  </tbody>\n",
       "</table>\n",
       "</div>"
      ],
      "text/plain": [
       "   Unnamed: 0                                         title_body  \\\n",
       "0           0  [AITA] I wrote an explanation in TIL and came ...   \n",
       "1           1  [AITA] Threw my parent's donuts away My parent...   \n",
       "2           2  I told a goth girl she looked like a clown. I ...   \n",
       "3           3  [AItA]: Argument I had with another redditor i...   \n",
       "4           4  [AITA] I let my story get a little long and bo...   \n",
       "\n",
       "                                             comment  \n",
       "0  <|response|> There is nothing wrong with your ...  \n",
       "1  <|response|> Yep. You're the asshole. If you w...  \n",
       "2  <|response|> Kids say ridiculous things all th...  \n",
       "3  <|response|> I'm not reading that. But don't s...  \n",
       "4  <|response|> A real yawn? Or an I'm-trying-to-...  "
      ]
     },
     "execution_count": 24,
     "metadata": {},
     "output_type": "execute_result"
    }
   ],
   "source": [
    "df.head()"
   ]
  },
  {
   "cell_type": "code",
   "execution_count": 25,
   "id": "330df2e0-d0db-4398-8124-155f71c4c390",
   "metadata": {},
   "outputs": [
    {
     "data": {
      "text/html": [
       "<div>\n",
       "<style scoped>\n",
       "    .dataframe tbody tr th:only-of-type {\n",
       "        vertical-align: middle;\n",
       "    }\n",
       "\n",
       "    .dataframe tbody tr th {\n",
       "        vertical-align: top;\n",
       "    }\n",
       "\n",
       "    .dataframe thead th {\n",
       "        text-align: right;\n",
       "    }\n",
       "</style>\n",
       "<table border=\"1\" class=\"dataframe\">\n",
       "  <thead>\n",
       "    <tr style=\"text-align: right;\">\n",
       "      <th></th>\n",
       "      <th>Unnamed: 0</th>\n",
       "      <th>title_body</th>\n",
       "      <th>comment</th>\n",
       "    </tr>\n",
       "  </thead>\n",
       "  <tbody>\n",
       "    <tr>\n",
       "      <th>0</th>\n",
       "      <td>0</td>\n",
       "      <td>[AITA] I wrote an explanation in TIL and came ...</td>\n",
       "      <td>&lt;|response|&gt; There is nothing wrong with your ...</td>\n",
       "    </tr>\n",
       "    <tr>\n",
       "      <th>1</th>\n",
       "      <td>1</td>\n",
       "      <td>[AITA] Threw my parent's donuts away My parent...</td>\n",
       "      <td>&lt;|response|&gt; Yep. You're the asshole. If you w...</td>\n",
       "    </tr>\n",
       "    <tr>\n",
       "      <th>2</th>\n",
       "      <td>2</td>\n",
       "      <td>I told a goth girl she looked like a clown. I ...</td>\n",
       "      <td>&lt;|response|&gt; Kids say ridiculous things all th...</td>\n",
       "    </tr>\n",
       "    <tr>\n",
       "      <th>3</th>\n",
       "      <td>3</td>\n",
       "      <td>[AItA]: Argument I had with another redditor i...</td>\n",
       "      <td>&lt;|response|&gt; I'm not reading that. But don't s...</td>\n",
       "    </tr>\n",
       "    <tr>\n",
       "      <th>4</th>\n",
       "      <td>4</td>\n",
       "      <td>[AITA] I let my story get a little long and bo...</td>\n",
       "      <td>&lt;|response|&gt; A real yawn? Or an I'm-trying-to-...</td>\n",
       "    </tr>\n",
       "    <tr>\n",
       "      <th>...</th>\n",
       "      <td>...</td>\n",
       "      <td>...</td>\n",
       "      <td>...</td>\n",
       "    </tr>\n",
       "    <tr>\n",
       "      <th>14995</th>\n",
       "      <td>14995</td>\n",
       "      <td>AITA for telling people about my breakup So a ...</td>\n",
       "      <td>&lt;|response|&gt; Nta. She's obviously trying to ma...</td>\n",
       "    </tr>\n",
       "    <tr>\n",
       "      <th>14996</th>\n",
       "      <td>14996</td>\n",
       "      <td>WIBTA for wanting to leave my girlfriend and t...</td>\n",
       "      <td>&lt;|response|&gt; &gt;I want to tell her that I don’t ...</td>\n",
       "    </tr>\n",
       "    <tr>\n",
       "      <th>14997</th>\n",
       "      <td>14997</td>\n",
       "      <td>AITA for for spending less and making home mad...</td>\n",
       "      <td>&lt;|response|&gt; NTA gifts aren't about how much m...</td>\n",
       "    </tr>\n",
       "    <tr>\n",
       "      <th>14998</th>\n",
       "      <td>14998</td>\n",
       "      <td>AITA for telling my uncle how much of a deadbe...</td>\n",
       "      <td>&lt;|response|&gt; NTA - It's not your job to cover ...</td>\n",
       "    </tr>\n",
       "    <tr>\n",
       "      <th>14999</th>\n",
       "      <td>14999</td>\n",
       "      <td>AITA for having sex with drunk girls? I want t...</td>\n",
       "      <td>&lt;|response|&gt; I think it’s concerning that you’...</td>\n",
       "    </tr>\n",
       "  </tbody>\n",
       "</table>\n",
       "<p>15000 rows × 3 columns</p>\n",
       "</div>"
      ],
      "text/plain": [
       "       Unnamed: 0                                         title_body  \\\n",
       "0               0  [AITA] I wrote an explanation in TIL and came ...   \n",
       "1               1  [AITA] Threw my parent's donuts away My parent...   \n",
       "2               2  I told a goth girl she looked like a clown. I ...   \n",
       "3               3  [AItA]: Argument I had with another redditor i...   \n",
       "4               4  [AITA] I let my story get a little long and bo...   \n",
       "...           ...                                                ...   \n",
       "14995       14995  AITA for telling people about my breakup So a ...   \n",
       "14996       14996  WIBTA for wanting to leave my girlfriend and t...   \n",
       "14997       14997  AITA for for spending less and making home mad...   \n",
       "14998       14998  AITA for telling my uncle how much of a deadbe...   \n",
       "14999       14999  AITA for having sex with drunk girls? I want t...   \n",
       "\n",
       "                                                 comment  \n",
       "0      <|response|> There is nothing wrong with your ...  \n",
       "1      <|response|> Yep. You're the asshole. If you w...  \n",
       "2      <|response|> Kids say ridiculous things all th...  \n",
       "3      <|response|> I'm not reading that. But don't s...  \n",
       "4      <|response|> A real yawn? Or an I'm-trying-to-...  \n",
       "...                                                  ...  \n",
       "14995  <|response|> Nta. She's obviously trying to ma...  \n",
       "14996  <|response|> >I want to tell her that I don’t ...  \n",
       "14997  <|response|> NTA gifts aren't about how much m...  \n",
       "14998  <|response|> NTA - It's not your job to cover ...  \n",
       "14999  <|response|> I think it’s concerning that you’...  \n",
       "\n",
       "[15000 rows x 3 columns]"
      ]
     },
     "execution_count": 25,
     "metadata": {},
     "output_type": "execute_result"
    }
   ],
   "source": [
    "df"
   ]
  },
  {
   "cell_type": "code",
   "execution_count": 26,
   "id": "a54cddd8-951f-4017-8efe-dfe9ccc3eef5",
   "metadata": {},
   "outputs": [],
   "source": [
    "df[\"label\"] = \"\""
   ]
  },
  {
   "cell_type": "code",
   "execution_count": null,
   "id": "9ac4f89b-7bc0-4fe7-8de3-00c19b3368aa",
   "metadata": {},
   "outputs": [],
   "source": []
  },
  {
   "cell_type": "code",
   "execution_count": 27,
   "id": "330872aa-444f-4f81-b923-904ca0ac5d3e",
   "metadata": {},
   "outputs": [
    {
     "data": {
      "text/html": [
       "<div>\n",
       "<style scoped>\n",
       "    .dataframe tbody tr th:only-of-type {\n",
       "        vertical-align: middle;\n",
       "    }\n",
       "\n",
       "    .dataframe tbody tr th {\n",
       "        vertical-align: top;\n",
       "    }\n",
       "\n",
       "    .dataframe thead th {\n",
       "        text-align: right;\n",
       "    }\n",
       "</style>\n",
       "<table border=\"1\" class=\"dataframe\">\n",
       "  <thead>\n",
       "    <tr style=\"text-align: right;\">\n",
       "      <th></th>\n",
       "      <th>Unnamed: 0</th>\n",
       "      <th>title_body</th>\n",
       "      <th>comment</th>\n",
       "      <th>label</th>\n",
       "    </tr>\n",
       "  </thead>\n",
       "  <tbody>\n",
       "    <tr>\n",
       "      <th>0</th>\n",
       "      <td>0</td>\n",
       "      <td>[AITA] I wrote an explanation in TIL and came ...</td>\n",
       "      <td>&lt;|response|&gt; There is nothing wrong with your ...</td>\n",
       "      <td></td>\n",
       "    </tr>\n",
       "    <tr>\n",
       "      <th>1</th>\n",
       "      <td>1</td>\n",
       "      <td>[AITA] Threw my parent's donuts away My parent...</td>\n",
       "      <td>&lt;|response|&gt; Yep. You're the asshole. If you w...</td>\n",
       "      <td></td>\n",
       "    </tr>\n",
       "    <tr>\n",
       "      <th>2</th>\n",
       "      <td>2</td>\n",
       "      <td>I told a goth girl she looked like a clown. I ...</td>\n",
       "      <td>&lt;|response|&gt; Kids say ridiculous things all th...</td>\n",
       "      <td></td>\n",
       "    </tr>\n",
       "    <tr>\n",
       "      <th>3</th>\n",
       "      <td>3</td>\n",
       "      <td>[AItA]: Argument I had with another redditor i...</td>\n",
       "      <td>&lt;|response|&gt; I'm not reading that. But don't s...</td>\n",
       "      <td></td>\n",
       "    </tr>\n",
       "    <tr>\n",
       "      <th>4</th>\n",
       "      <td>4</td>\n",
       "      <td>[AITA] I let my story get a little long and bo...</td>\n",
       "      <td>&lt;|response|&gt; A real yawn? Or an I'm-trying-to-...</td>\n",
       "      <td></td>\n",
       "    </tr>\n",
       "  </tbody>\n",
       "</table>\n",
       "</div>"
      ],
      "text/plain": [
       "   Unnamed: 0                                         title_body  \\\n",
       "0           0  [AITA] I wrote an explanation in TIL and came ...   \n",
       "1           1  [AITA] Threw my parent's donuts away My parent...   \n",
       "2           2  I told a goth girl she looked like a clown. I ...   \n",
       "3           3  [AItA]: Argument I had with another redditor i...   \n",
       "4           4  [AITA] I let my story get a little long and bo...   \n",
       "\n",
       "                                             comment label  \n",
       "0  <|response|> There is nothing wrong with your ...        \n",
       "1  <|response|> Yep. You're the asshole. If you w...        \n",
       "2  <|response|> Kids say ridiculous things all th...        \n",
       "3  <|response|> I'm not reading that. But don't s...        \n",
       "4  <|response|> A real yawn? Or an I'm-trying-to-...        "
      ]
     },
     "execution_count": 27,
     "metadata": {},
     "output_type": "execute_result"
    }
   ],
   "source": [
    "df.head()"
   ]
  },
  {
   "cell_type": "code",
   "execution_count": 28,
   "id": "8e7cd24f-efee-4359-9d2e-30d3958a4c9b",
   "metadata": {},
   "outputs": [],
   "source": [
    "from tqdm import tqdm\n",
    "\n",
    "def Search_Label_AITA():\n",
    "    for i in tqdm(range(len(df['comment']))):\n",
    "        if \"NTA\" in df['comment'][i]:\n",
    "            df[\"label\"][i] = \"NTA\"\n",
    "        elif \"YTA\" in df['comment'][i]:\n",
    "            df[\"label\"][i] = \"YTA\"\n",
    "        elif \"YWBTA\" in df['comment'][i]:\n",
    "            df[\"label\"][i] = \"YWBTA\"\n",
    "        elif \"YWNBTA\" in df['comment'][i]:\n",
    "            df[\"label\"][i] = \"YWNBTA\"\n",
    "        elif \"ESH\" in df['comment'][i]:\n",
    "            df[\"label\"][i] = \"ESH\"\n",
    "        elif \"NAH\" in df['comment'][i]:\n",
    "            df[\"label\"][i] = \"NAH\"\n",
    "        elif \"INFO\" in df['comment'][i]:\n",
    "            df[\"label\"][i] = \"INFO\""
   ]
  },
  {
   "cell_type": "code",
   "execution_count": 29,
   "id": "5aa93da7-1285-49ab-861d-a70357bc0825",
   "metadata": {
    "scrolled": true
   },
   "outputs": [
    {
     "name": "stderr",
     "output_type": "stream",
     "text": [
      "100%|██████████████████████████████████████████████████████████████████████████| 15000/15000 [00:02<00:00, 5844.84it/s]\n"
     ]
    }
   ],
   "source": [
    "Search_Label_AITA()"
   ]
  },
  {
   "cell_type": "code",
   "execution_count": 30,
   "id": "842a93f2-164c-4eaa-b82d-bd46d2d64f12",
   "metadata": {},
   "outputs": [],
   "source": [
    "df = df.drop(df[df['label'] == ''].index)"
   ]
  },
  {
   "cell_type": "code",
   "execution_count": 31,
   "id": "f2631265-4a1b-4295-975b-eb4b21cfb867",
   "metadata": {},
   "outputs": [],
   "source": [
    "df.drop('Unnamed: 0', axis=1, inplace=True)"
   ]
  },
  {
   "cell_type": "code",
   "execution_count": 32,
   "id": "770b1981-cda4-4f4e-9fb4-736df6ed2a22",
   "metadata": {},
   "outputs": [
    {
     "data": {
      "text/html": [
       "<div>\n",
       "<style scoped>\n",
       "    .dataframe tbody tr th:only-of-type {\n",
       "        vertical-align: middle;\n",
       "    }\n",
       "\n",
       "    .dataframe tbody tr th {\n",
       "        vertical-align: top;\n",
       "    }\n",
       "\n",
       "    .dataframe thead th {\n",
       "        text-align: right;\n",
       "    }\n",
       "</style>\n",
       "<table border=\"1\" class=\"dataframe\">\n",
       "  <thead>\n",
       "    <tr style=\"text-align: right;\">\n",
       "      <th></th>\n",
       "      <th>title_body</th>\n",
       "      <th>comment</th>\n",
       "      <th>label</th>\n",
       "    </tr>\n",
       "  </thead>\n",
       "  <tbody>\n",
       "    <tr>\n",
       "      <th>98</th>\n",
       "      <td>AITA for hating my dad and uncle? I'm using a ...</td>\n",
       "      <td>&lt;|response|&gt; Why was this post labelled as \"as...</td>\n",
       "      <td>NTA</td>\n",
       "    </tr>\n",
       "    <tr>\n",
       "      <th>783</th>\n",
       "      <td>AITA For not wanting to work for my parents? A...</td>\n",
       "      <td>&lt;|response|&gt; YNTAH they told you they didn't w...</td>\n",
       "      <td>NTA</td>\n",
       "    </tr>\n",
       "    <tr>\n",
       "      <th>787</th>\n",
       "      <td>AITA for wanting to celebrate my birthday I tu...</td>\n",
       "      <td>&lt;|response|&gt; I think you know your NTA, it see...</td>\n",
       "      <td>NTA</td>\n",
       "    </tr>\n",
       "    <tr>\n",
       "      <th>884</th>\n",
       "      <td>AITA in this comment thread? &gt;https://www.redd...</td>\n",
       "      <td>&lt;|response|&gt; Yes, you're the asshole. Not only...</td>\n",
       "      <td>YTA</td>\n",
       "    </tr>\n",
       "    <tr>\n",
       "      <th>1662</th>\n",
       "      <td>AITA for doing it via text? So I went on three...</td>\n",
       "      <td>&lt;|response|&gt; If the guy ended up okay with it,...</td>\n",
       "      <td>NTA</td>\n",
       "    </tr>\n",
       "    <tr>\n",
       "      <th>...</th>\n",
       "      <td>...</td>\n",
       "      <td>...</td>\n",
       "      <td>...</td>\n",
       "    </tr>\n",
       "    <tr>\n",
       "      <th>14993</th>\n",
       "      <td>AITA for asking my girlfriend to give me more ...</td>\n",
       "      <td>&lt;|response|&gt; NAH. This is a communication issu...</td>\n",
       "      <td>NAH</td>\n",
       "    </tr>\n",
       "    <tr>\n",
       "      <th>14994</th>\n",
       "      <td>WIBTA if I gave my son's unwrapped Christmas g...</td>\n",
       "      <td>&lt;|response|&gt; YTA. I can’t even tell what your ...</td>\n",
       "      <td>YTA</td>\n",
       "    </tr>\n",
       "    <tr>\n",
       "      <th>14996</th>\n",
       "      <td>WIBTA for wanting to leave my girlfriend and t...</td>\n",
       "      <td>&lt;|response|&gt; &gt;I want to tell her that I don’t ...</td>\n",
       "      <td>NTA</td>\n",
       "    </tr>\n",
       "    <tr>\n",
       "      <th>14997</th>\n",
       "      <td>AITA for for spending less and making home mad...</td>\n",
       "      <td>&lt;|response|&gt; NTA gifts aren't about how much m...</td>\n",
       "      <td>NTA</td>\n",
       "    </tr>\n",
       "    <tr>\n",
       "      <th>14998</th>\n",
       "      <td>AITA for telling my uncle how much of a deadbe...</td>\n",
       "      <td>&lt;|response|&gt; NTA - It's not your job to cover ...</td>\n",
       "      <td>NTA</td>\n",
       "    </tr>\n",
       "  </tbody>\n",
       "</table>\n",
       "<p>4646 rows × 3 columns</p>\n",
       "</div>"
      ],
      "text/plain": [
       "                                              title_body  \\\n",
       "98     AITA for hating my dad and uncle? I'm using a ...   \n",
       "783    AITA For not wanting to work for my parents? A...   \n",
       "787    AITA for wanting to celebrate my birthday I tu...   \n",
       "884    AITA in this comment thread? >https://www.redd...   \n",
       "1662   AITA for doing it via text? So I went on three...   \n",
       "...                                                  ...   \n",
       "14993  AITA for asking my girlfriend to give me more ...   \n",
       "14994  WIBTA if I gave my son's unwrapped Christmas g...   \n",
       "14996  WIBTA for wanting to leave my girlfriend and t...   \n",
       "14997  AITA for for spending less and making home mad...   \n",
       "14998  AITA for telling my uncle how much of a deadbe...   \n",
       "\n",
       "                                                 comment label  \n",
       "98     <|response|> Why was this post labelled as \"as...   NTA  \n",
       "783    <|response|> YNTAH they told you they didn't w...   NTA  \n",
       "787    <|response|> I think you know your NTA, it see...   NTA  \n",
       "884    <|response|> Yes, you're the asshole. Not only...   YTA  \n",
       "1662   <|response|> If the guy ended up okay with it,...   NTA  \n",
       "...                                                  ...   ...  \n",
       "14993  <|response|> NAH. This is a communication issu...   NAH  \n",
       "14994  <|response|> YTA. I can’t even tell what your ...   YTA  \n",
       "14996  <|response|> >I want to tell her that I don’t ...   NTA  \n",
       "14997  <|response|> NTA gifts aren't about how much m...   NTA  \n",
       "14998  <|response|> NTA - It's not your job to cover ...   NTA  \n",
       "\n",
       "[4646 rows x 3 columns]"
      ]
     },
     "execution_count": 32,
     "metadata": {},
     "output_type": "execute_result"
    }
   ],
   "source": [
    "df"
   ]
  },
  {
   "cell_type": "code",
   "execution_count": 33,
   "id": "1e4e5ff5-349d-49a4-8165-93eb87447696",
   "metadata": {},
   "outputs": [
    {
     "name": "stdout",
     "output_type": "stream",
     "text": [
      "Class Distribution:\n",
      "label\n",
      "NTA       0.744296\n",
      "YTA       0.181231\n",
      "NAH       0.040680\n",
      "ESH       0.023676\n",
      "INFO      0.006027\n",
      "YWBTA     0.003659\n",
      "YWNBTA    0.000430\n",
      "Name: proportion, dtype: float64\n"
     ]
    }
   ],
   "source": [
    "class_distribution = df['label'].value_counts(normalize=True)\n",
    "\n",
    "print(\"Class Distribution:\")\n",
    "print(class_distribution)"
   ]
  },
  {
   "cell_type": "code",
   "execution_count": 34,
   "id": "53f5aa08-326c-4093-a126-9cf7d96a0eba",
   "metadata": {},
   "outputs": [
    {
     "data": {
      "text/plain": [
       "(4646, 3)"
      ]
     },
     "execution_count": 34,
     "metadata": {},
     "output_type": "execute_result"
    }
   ],
   "source": [
    "df.shape"
   ]
  },
  {
   "cell_type": "code",
   "execution_count": 35,
   "id": "06f4ed85-89e3-4c0c-bb41-69c0836be2b7",
   "metadata": {},
   "outputs": [
    {
     "data": {
      "text/plain": [
       "Index(['title_body', 'comment', 'label'], dtype='object')"
      ]
     },
     "execution_count": 35,
     "metadata": {},
     "output_type": "execute_result"
    }
   ],
   "source": [
    "df.columns"
   ]
  },
  {
   "cell_type": "code",
   "execution_count": 36,
   "id": "c2f310d7-48d1-4802-952a-39e63e26735b",
   "metadata": {},
   "outputs": [],
   "source": [
    "# Convert text data to a sparse matrix\n",
    "vectorizer = TfidfVectorizer()\n",
    "sparse_matrix = vectorizer.fit_transform(df['title_body'])"
   ]
  },
  {
   "cell_type": "code",
   "execution_count": 37,
   "id": "2ab673af-e83e-4669-8b5d-35bc904f5c2d",
   "metadata": {},
   "outputs": [],
   "source": [
    "dense_matrix = sparse_matrix.toarray()"
   ]
  },
  {
   "cell_type": "code",
   "execution_count": 38,
   "id": "de51f930-fb34-4d73-92aa-2b0cf9ec4d01",
   "metadata": {},
   "outputs": [
    {
     "data": {
      "text/plain": [
       "array([[0., 0., 0., ..., 0., 0., 0.],\n",
       "       [0., 0., 0., ..., 0., 0., 0.],\n",
       "       [0., 0., 0., ..., 0., 0., 0.],\n",
       "       ...,\n",
       "       [0., 0., 0., ..., 0., 0., 0.],\n",
       "       [0., 0., 0., ..., 0., 0., 0.],\n",
       "       [0., 0., 0., ..., 0., 0., 0.]])"
      ]
     },
     "execution_count": 38,
     "metadata": {},
     "output_type": "execute_result"
    }
   ],
   "source": [
    "dense_matrix"
   ]
  },
  {
   "cell_type": "code",
   "execution_count": 39,
   "id": "2d7fbe9d-64c5-4da8-95bd-266ca7a8af62",
   "metadata": {},
   "outputs": [],
   "source": [
    "from sklearn.model_selection import train_test_split\n",
    "from sklearn.datasets import load_iris\n",
    "from sklearn.naive_bayes import GaussianNB\n",
    "from sklearn.metrics import accuracy_score\n",
    "\n",
    "X = dense_matrix\n",
    "y = df['label']\n",
    "# Split the dataset into training and test sets\n",
    "X_train, X_test, y_train, y_test = train_test_split(X, y, test_size=0.2, random_state=42)"
   ]
  },
  {
   "cell_type": "code",
   "execution_count": 40,
   "id": "9f7ab822-5116-446e-91e0-8832cba0152a",
   "metadata": {},
   "outputs": [
    {
     "data": {
      "text/plain": [
       "(930, 21326)"
      ]
     },
     "execution_count": 40,
     "metadata": {},
     "output_type": "execute_result"
    }
   ],
   "source": [
    "X_test.shape"
   ]
  },
  {
   "cell_type": "code",
   "execution_count": 41,
   "id": "65e2b02c-eaa6-44b7-ba75-f0b820053848",
   "metadata": {},
   "outputs": [
    {
     "data": {
      "text/plain": [
       "14912    NAH\n",
       "2994     NTA\n",
       "13122    NTA\n",
       "13128    NTA\n",
       "14617    YTA\n",
       "        ... \n",
       "14751    ESH\n",
       "4715     NTA\n",
       "13304    NTA\n",
       "14052    NTA\n",
       "5411     NTA\n",
       "Name: label, Length: 3716, dtype: object"
      ]
     },
     "execution_count": 41,
     "metadata": {},
     "output_type": "execute_result"
    }
   ],
   "source": [
    "y_train"
   ]
  },
  {
   "cell_type": "code",
   "execution_count": 42,
   "id": "c5a6bde7-cbd0-430c-9088-c6dce3a9718b",
   "metadata": {},
   "outputs": [
    {
     "data": {
      "text/html": [
       "<style>#sk-container-id-1 {color: black;}#sk-container-id-1 pre{padding: 0;}#sk-container-id-1 div.sk-toggleable {background-color: white;}#sk-container-id-1 label.sk-toggleable__label {cursor: pointer;display: block;width: 100%;margin-bottom: 0;padding: 0.3em;box-sizing: border-box;text-align: center;}#sk-container-id-1 label.sk-toggleable__label-arrow:before {content: \"▸\";float: left;margin-right: 0.25em;color: #696969;}#sk-container-id-1 label.sk-toggleable__label-arrow:hover:before {color: black;}#sk-container-id-1 div.sk-estimator:hover label.sk-toggleable__label-arrow:before {color: black;}#sk-container-id-1 div.sk-toggleable__content {max-height: 0;max-width: 0;overflow: hidden;text-align: left;background-color: #f0f8ff;}#sk-container-id-1 div.sk-toggleable__content pre {margin: 0.2em;color: black;border-radius: 0.25em;background-color: #f0f8ff;}#sk-container-id-1 input.sk-toggleable__control:checked~div.sk-toggleable__content {max-height: 200px;max-width: 100%;overflow: auto;}#sk-container-id-1 input.sk-toggleable__control:checked~label.sk-toggleable__label-arrow:before {content: \"▾\";}#sk-container-id-1 div.sk-estimator input.sk-toggleable__control:checked~label.sk-toggleable__label {background-color: #d4ebff;}#sk-container-id-1 div.sk-label input.sk-toggleable__control:checked~label.sk-toggleable__label {background-color: #d4ebff;}#sk-container-id-1 input.sk-hidden--visually {border: 0;clip: rect(1px 1px 1px 1px);clip: rect(1px, 1px, 1px, 1px);height: 1px;margin: -1px;overflow: hidden;padding: 0;position: absolute;width: 1px;}#sk-container-id-1 div.sk-estimator {font-family: monospace;background-color: #f0f8ff;border: 1px dotted black;border-radius: 0.25em;box-sizing: border-box;margin-bottom: 0.5em;}#sk-container-id-1 div.sk-estimator:hover {background-color: #d4ebff;}#sk-container-id-1 div.sk-parallel-item::after {content: \"\";width: 100%;border-bottom: 1px solid gray;flex-grow: 1;}#sk-container-id-1 div.sk-label:hover label.sk-toggleable__label {background-color: #d4ebff;}#sk-container-id-1 div.sk-serial::before {content: \"\";position: absolute;border-left: 1px solid gray;box-sizing: border-box;top: 0;bottom: 0;left: 50%;z-index: 0;}#sk-container-id-1 div.sk-serial {display: flex;flex-direction: column;align-items: center;background-color: white;padding-right: 0.2em;padding-left: 0.2em;position: relative;}#sk-container-id-1 div.sk-item {position: relative;z-index: 1;}#sk-container-id-1 div.sk-parallel {display: flex;align-items: stretch;justify-content: center;background-color: white;position: relative;}#sk-container-id-1 div.sk-item::before, #sk-container-id-1 div.sk-parallel-item::before {content: \"\";position: absolute;border-left: 1px solid gray;box-sizing: border-box;top: 0;bottom: 0;left: 50%;z-index: -1;}#sk-container-id-1 div.sk-parallel-item {display: flex;flex-direction: column;z-index: 1;position: relative;background-color: white;}#sk-container-id-1 div.sk-parallel-item:first-child::after {align-self: flex-end;width: 50%;}#sk-container-id-1 div.sk-parallel-item:last-child::after {align-self: flex-start;width: 50%;}#sk-container-id-1 div.sk-parallel-item:only-child::after {width: 0;}#sk-container-id-1 div.sk-dashed-wrapped {border: 1px dashed gray;margin: 0 0.4em 0.5em 0.4em;box-sizing: border-box;padding-bottom: 0.4em;background-color: white;}#sk-container-id-1 div.sk-label label {font-family: monospace;font-weight: bold;display: inline-block;line-height: 1.2em;}#sk-container-id-1 div.sk-label-container {text-align: center;}#sk-container-id-1 div.sk-container {/* jupyter's `normalize.less` sets `[hidden] { display: none; }` but bootstrap.min.css set `[hidden] { display: none !important; }` so we also need the `!important` here to be able to override the default hidden behavior on the sphinx rendered scikit-learn.org. See: https://github.com/scikit-learn/scikit-learn/issues/21755 */display: inline-block !important;position: relative;}#sk-container-id-1 div.sk-text-repr-fallback {display: none;}</style><div id=\"sk-container-id-1\" class=\"sk-top-container\"><div class=\"sk-text-repr-fallback\"><pre>GaussianNB()</pre><b>In a Jupyter environment, please rerun this cell to show the HTML representation or trust the notebook. <br />On GitHub, the HTML representation is unable to render, please try loading this page with nbviewer.org.</b></div><div class=\"sk-container\" hidden><div class=\"sk-item\"><div class=\"sk-estimator sk-toggleable\"><input class=\"sk-toggleable__control sk-hidden--visually\" id=\"sk-estimator-id-1\" type=\"checkbox\" checked><label for=\"sk-estimator-id-1\" class=\"sk-toggleable__label sk-toggleable__label-arrow\">GaussianNB</label><div class=\"sk-toggleable__content\"><pre>GaussianNB()</pre></div></div></div></div></div>"
      ],
      "text/plain": [
       "GaussianNB()"
      ]
     },
     "execution_count": 42,
     "metadata": {},
     "output_type": "execute_result"
    }
   ],
   "source": [
    "# Create a Gaussian Naive Bayes classifier\n",
    "clf = GaussianNB()\n",
    "\n",
    "\n",
    "# Train the classifier\n",
    "clf.fit(X_train, y_train)"
   ]
  },
  {
   "cell_type": "code",
   "execution_count": 43,
   "id": "dbb0f791-e5cc-41e8-93eb-598b5abc6f67",
   "metadata": {},
   "outputs": [
    {
     "name": "stdout",
     "output_type": "stream",
     "text": [
      "Accuracy: 0.7043010752688172\n"
     ]
    }
   ],
   "source": [
    "# Make predictions on the test set\n",
    "y_pred = clf.predict(X_test)\n",
    "\n",
    "# Calculate the accuracy of the classifier\n",
    "accuracy = accuracy_score(y_test, y_pred)\n",
    "print(f'Accuracy: {accuracy}')"
   ]
  },
  {
   "cell_type": "code",
   "execution_count": null,
   "id": "979fc35f-a9e0-495b-983c-246e35c4021f",
   "metadata": {},
   "outputs": [],
   "source": []
  },
  {
   "cell_type": "code",
   "execution_count": null,
   "id": "0a8716d2-cfe7-4695-8baa-d658bf13246d",
   "metadata": {},
   "outputs": [],
   "source": []
  },
  {
   "cell_type": "code",
   "execution_count": null,
   "id": "2c8fb81f-0ee0-46ac-97f5-83b5acaa6b90",
   "metadata": {},
   "outputs": [],
   "source": []
  },
  {
   "cell_type": "code",
   "execution_count": null,
   "id": "3693f6e0-1171-4b72-9991-faa365865957",
   "metadata": {},
   "outputs": [],
   "source": []
  },
  {
   "cell_type": "code",
   "execution_count": null,
   "id": "62a426ca-6f90-4777-a367-db3732af4bd3",
   "metadata": {},
   "outputs": [],
   "source": []
  },
  {
   "cell_type": "code",
   "execution_count": null,
   "id": "ccd93242-eb4f-40d2-a879-c7b75e15d9de",
   "metadata": {},
   "outputs": [],
   "source": []
  },
  {
   "cell_type": "code",
   "execution_count": null,
   "id": "fd29195b-5da4-45a1-af25-4cebb169807b",
   "metadata": {},
   "outputs": [],
   "source": []
  },
  {
   "cell_type": "code",
   "execution_count": null,
   "id": "20fee007-ebfc-477d-9c6b-407b19f2886c",
   "metadata": {},
   "outputs": [],
   "source": []
  },
  {
   "cell_type": "code",
   "execution_count": null,
   "id": "d86b9100-60b4-41c7-8aac-79f4bc07d040",
   "metadata": {},
   "outputs": [],
   "source": []
  },
  {
   "cell_type": "code",
   "execution_count": null,
   "id": "5358ded0-4ddd-4e64-bc5d-545fe360ee0f",
   "metadata": {},
   "outputs": [],
   "source": []
  },
  {
   "cell_type": "code",
   "execution_count": null,
   "id": "f6502df2-4347-4b48-a2c7-458905f7d541",
   "metadata": {},
   "outputs": [],
   "source": []
  },
  {
   "cell_type": "code",
   "execution_count": null,
   "id": "6c98edbc-9ab4-4e46-ba59-c812ab8aa760",
   "metadata": {},
   "outputs": [],
   "source": []
  },
  {
   "cell_type": "code",
   "execution_count": null,
   "id": "bbe405ff-7584-44a3-ad14-99e77b57064c",
   "metadata": {},
   "outputs": [],
   "source": []
  },
  {
   "cell_type": "code",
   "execution_count": null,
   "id": "275dedb5-bb7c-4f92-a2cb-23c7432da850",
   "metadata": {},
   "outputs": [],
   "source": []
  },
  {
   "cell_type": "code",
   "execution_count": null,
   "id": "d4ea304c-416c-4626-8cb1-a1514b4eface",
   "metadata": {},
   "outputs": [],
   "source": []
  },
  {
   "cell_type": "code",
   "execution_count": null,
   "id": "f786dab4-fedd-4abe-b4b0-56ba1e49d8da",
   "metadata": {},
   "outputs": [],
   "source": []
  },
  {
   "cell_type": "code",
   "execution_count": null,
   "id": "d669fac1-0668-4998-b402-c36aaaba3e8e",
   "metadata": {},
   "outputs": [],
   "source": []
  },
  {
   "cell_type": "code",
   "execution_count": null,
   "id": "720c651c-8724-487d-a75b-97e76899ba01",
   "metadata": {},
   "outputs": [],
   "source": []
  },
  {
   "cell_type": "code",
   "execution_count": null,
   "id": "a766630d-6fd9-4de8-bc8e-b0c4cd8f0b86",
   "metadata": {},
   "outputs": [],
   "source": []
  },
  {
   "cell_type": "code",
   "execution_count": null,
   "id": "43eb5bbf-c662-49bc-8f49-bfe9fa41c04e",
   "metadata": {},
   "outputs": [],
   "source": []
  },
  {
   "cell_type": "code",
   "execution_count": null,
   "id": "775b0ad5-5125-44a7-be82-c3b02d5f77a4",
   "metadata": {},
   "outputs": [],
   "source": []
  },
  {
   "cell_type": "code",
   "execution_count": null,
   "id": "62a13e1d-7cd4-495e-9008-7fc9f8a1b474",
   "metadata": {},
   "outputs": [],
   "source": []
  },
  {
   "cell_type": "code",
   "execution_count": null,
   "id": "fda18cf5-90d3-4822-8a9b-fb6447312ad7",
   "metadata": {},
   "outputs": [],
   "source": []
  },
  {
   "cell_type": "code",
   "execution_count": null,
   "id": "0d017bf6-15bc-4d3c-ac21-46976c82741b",
   "metadata": {},
   "outputs": [],
   "source": []
  },
  {
   "cell_type": "code",
   "execution_count": null,
   "id": "a963a373-15fc-47a7-ac74-7a094217b7ae",
   "metadata": {},
   "outputs": [],
   "source": []
  },
  {
   "cell_type": "code",
   "execution_count": null,
   "id": "07cea51a-8929-4ea4-af1e-559fb15592c9",
   "metadata": {},
   "outputs": [],
   "source": []
  },
  {
   "cell_type": "code",
   "execution_count": null,
   "id": "9b9df6dd-8a2e-4729-a094-e1e5817e65be",
   "metadata": {},
   "outputs": [],
   "source": []
  },
  {
   "cell_type": "code",
   "execution_count": null,
   "id": "1c8aceae-5bf5-405b-9ccb-fa517d5344f4",
   "metadata": {},
   "outputs": [],
   "source": []
  },
  {
   "cell_type": "code",
   "execution_count": null,
   "id": "a301df62-165c-4529-8d80-e5a9ca60e598",
   "metadata": {},
   "outputs": [],
   "source": []
  },
  {
   "cell_type": "code",
   "execution_count": null,
   "id": "9f533e72-2f60-4087-a049-2dee9ad98397",
   "metadata": {},
   "outputs": [],
   "source": []
  },
  {
   "cell_type": "code",
   "execution_count": null,
   "id": "a3288e9c-7950-4240-88e0-2c5d67a46092",
   "metadata": {},
   "outputs": [],
   "source": []
  },
  {
   "cell_type": "code",
   "execution_count": null,
   "id": "42d20a37-f156-45b4-91da-f4bffa9d1015",
   "metadata": {},
   "outputs": [],
   "source": []
  },
  {
   "cell_type": "code",
   "execution_count": null,
   "id": "21d89db6-d26d-46ff-a640-332d8e209b4b",
   "metadata": {},
   "outputs": [],
   "source": []
  },
  {
   "cell_type": "code",
   "execution_count": null,
   "id": "3a8ea730-0e10-4829-ae22-6da9c6bdb9d6",
   "metadata": {},
   "outputs": [],
   "source": []
  }
 ],
 "metadata": {
  "kernelspec": {
   "display_name": "Python 3 (ipykernel)",
   "language": "python",
   "name": "python3"
  },
  "language_info": {
   "codemirror_mode": {
    "name": "ipython",
    "version": 3
   },
   "file_extension": ".py",
   "mimetype": "text/x-python",
   "name": "python",
   "nbconvert_exporter": "python",
   "pygments_lexer": "ipython3",
   "version": "3.11.5"
  }
 },
 "nbformat": 4,
 "nbformat_minor": 5
}
