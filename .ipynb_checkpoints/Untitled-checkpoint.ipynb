{
 "cells": [
  {
   "cell_type": "code",
   "execution_count": 1,
   "id": "ff40749e-654a-4c5a-aba1-1a8738ff29b5",
   "metadata": {},
   "outputs": [
    {
     "name": "stderr",
     "output_type": "stream",
     "text": [
      "[nltk_data] Downloading package punkt to\n",
      "[nltk_data]     C:\\Users\\akhas\\AppData\\Roaming\\nltk_data...\n",
      "[nltk_data]   Unzipping tokenizers\\punkt.zip.\n",
      "[nltk_data] Downloading package stopwords to\n",
      "[nltk_data]     C:\\Users\\akhas\\AppData\\Roaming\\nltk_data...\n",
      "[nltk_data]   Unzipping corpora\\stopwords.zip.\n",
      "[nltk_data] Downloading package wordnet to\n",
      "[nltk_data]     C:\\Users\\akhas\\AppData\\Roaming\\nltk_data...\n"
     ]
    },
    {
     "name": "stdout",
     "output_type": "stream",
     "text": [
      "Accuracy: 0.00\n"
     ]
    }
   ],
   "source": [
    "import nltk\n",
    "from nltk.tokenize import word_tokenize\n",
    "from nltk.corpus import stopwords\n",
    "from nltk.stem import WordNetLemmatizer\n",
    "from nltk.probability import FreqDist\n",
    "from sklearn.model_selection import train_test_split\n",
    "from sklearn.naive_bayes import MultinomialNB\n",
    "from sklearn.metrics import accuracy_score\n",
    "\n",
    "# Download NLTK resources\n",
    "nltk.download('punkt')\n",
    "nltk.download('stopwords')\n",
    "nltk.download('wordnet')\n",
    "\n",
    "# Sample dataset (replace this with your dataset)\n",
    "data = [\n",
    "    (\"I yelled at my friend, AITA?\", \"Asshole\"),\n",
    "    (\"I accidentally stepped on someone's foot, AITA?\", \"Not the Asshole\"),\n",
    "    (\"I ate the last slice of pizza, AITA?\", \"Asshole\"),\n",
    "    (\"I helped an old lady cross the street, AITA?\", \"Not the Asshole\"),\n",
    "    (\"I told my roommate to clean up their mess, AITA?\", \"Not the Asshole\"),\n",
    "    (\"I accidentally broke my friend's phone, AITA?\", \"Asshole\"),\n",
    "    (\"I donated my old clothes to charity, AITA?\", \"Not the Asshole\"),\n",
    "    (\"I refused to lend money to a friend in need, AITA?\", \"Not the Asshole\"),\n",
    "    (\"I forgot to wish my friend a happy birthday, AITA?\", \"Asshole\"),\n",
    "    (\"I helped a stranger carry groceries, AITA?\", \"Not the Asshole\"),\n",
    "    (\"I criticized my colleague's work in front of others, AITA?\", \"Asshole\"),\n",
    "    (\"I took the blame for someone else's mistake, AITA?\", \"Not the Asshole\"),\n",
    "    (\"I borrowed my neighbor's lawnmower without asking, AITA?\", \"Asshole\"),\n",
    "    (\"I stood up to a bully, AITA?\", \"Not the Asshole\"),\n",
    "    (\"I accidentally spilled coffee on someone, AITA?\", \"Asshole\"),\n",
    "    (\"I defended my friend in an argument, AITA?\", \"Not the Asshole\"),\n",
    "    (\"I forgot to return a borrowed item, AITA?\", \"Asshole\"),\n",
    "    (\"I gave up my seat on the bus to an elderly person, AITA?\", \"Not the Asshole\"),\n",
    "    (\"I lied to my boss to take a day off, AITA?\", \"Asshole\"),\n",
    "    (\"I helped a lost child find their parents, AITA?\", \"Not the Asshole\"),\n",
    "    (\"I criticized a family member's life choices, AITA?\", \"Asshole\"),\n",
    "    (\"I volunteered at a local shelter, AITA?\", \"Not the Asshole\"),\n",
    "    (\"I ignored a call for help from a stranger, AITA?\", \"Asshole\"),\n",
    "]\n",
    "\n",
    "# Preprocess data\n",
    "lemmatizer = WordNetLemmatizer()\n",
    "stop_words = set(stopwords.words('english'))\n",
    "\n",
    "def preprocess_text(text):\n",
    "    tokens = word_tokenize(text.lower())\n",
    "    tokens = [lemmatizer.lemmatize(token) for token in tokens if token.isalnum()]\n",
    "    tokens = [token for token in tokens if token not in stop_words]\n",
    "    return tokens\n",
    "\n",
    "# Create feature set\n",
    "all_words = FreqDist()\n",
    "for text, _ in data:\n",
    "    for word in preprocess_text(text):\n",
    "        all_words[word] += 1\n",
    "\n",
    "word_features = list(all_words.keys())\n",
    "\n",
    "def extract_features(text):\n",
    "    words = set(preprocess_text(text))\n",
    "    features = {}\n",
    "    for word in word_features:\n",
    "        features[word] = (word in words)\n",
    "    return features\n",
    "\n",
    "# Split data into training and test sets\n",
    "featuresets = [(extract_features(text), label) for text, label in data]\n",
    "train_set, test_set = train_test_split(featuresets, test_size=0.3, random_state=42)\n",
    "\n",
    "# Train the Naive Bayes classifier\n",
    "classifier = nltk.NaiveBayesClassifier.train(train_set)\n",
    "\n",
    "# Evaluate the classifier\n",
    "y_true = [label for _, label in test_set]\n",
    "y_pred = [classifier.classify(features) for features, _ in test_set]\n",
    "accuracy = accuracy_score(y_true, y_pred)\n",
    "\n",
    "print(f\"Accuracy: {accuracy:.2f}\")\n"
   ]
  },
  {
   "cell_type": "code",
   "execution_count": 2,
   "id": "97d928d1-777a-46f3-b7bf-8dc9a5cc089f",
   "metadata": {},
   "outputs": [
    {
     "data": {
      "text/plain": [
       "['Not the Asshole', 'Not the Asshole']"
      ]
     },
     "execution_count": 2,
     "metadata": {},
     "output_type": "execute_result"
    }
   ],
   "source": [
    "y_true"
   ]
  },
  {
   "cell_type": "code",
   "execution_count": 3,
   "id": "c0b60f1d-1c7e-41b9-ac5a-f30799c03efa",
   "metadata": {},
   "outputs": [
    {
     "data": {
      "text/plain": [
       "['Asshole', 'Asshole']"
      ]
     },
     "execution_count": 3,
     "metadata": {},
     "output_type": "execute_result"
    }
   ],
   "source": [
    "y_pred"
   ]
  },
  {
   "cell_type": "code",
   "execution_count": null,
   "id": "5f1999dd-1079-4988-801b-bcefa5a1fad5",
   "metadata": {},
   "outputs": [],
   "source": []
  }
 ],
 "metadata": {
  "kernelspec": {
   "display_name": "Python 3 (ipykernel)",
   "language": "python",
   "name": "python3"
  },
  "language_info": {
   "codemirror_mode": {
    "name": "ipython",
    "version": 3
   },
   "file_extension": ".py",
   "mimetype": "text/x-python",
   "name": "python",
   "nbconvert_exporter": "python",
   "pygments_lexer": "ipython3",
   "version": "3.11.5"
  }
 },
 "nbformat": 4,
 "nbformat_minor": 5
}
